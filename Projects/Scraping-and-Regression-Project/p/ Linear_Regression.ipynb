{
 "cells": [
  {
   "cell_type": "code",
   "execution_count": 2,
   "id": "55adc635",
   "metadata": {},
   "outputs": [],
   "source": [
    "\n",
    "import numpy as np\n",
    "import pandas as pd\n",
    "import matplotlib.pyplot as plt\n",
    "import seaborn as sns\n",
    "from sklearn.linear_model import LinearRegression\n",
    "from sklearn.metrics import r2_score, mean_squared_error\n",
    "from sklearn.preprocessing import PolynomialFeatures\n",
    "from sklearn.linear_model import Lasso, LassoCV, Ridge, RidgeCV\n",
    "from sklearn.model_selection import cross_val_score\n",
    "import seaborn as sb\n",
    "from sklearn.model_selection import (cross_val_score, train_test_split, \n",
    "                                     KFold, GridSearchCV)"
   ]
  },
  {
   "cell_type": "markdown",
   "id": "cc902a38",
   "metadata": {},
   "source": [
    "# Read the dataset"
   ]
  },
  {
   "cell_type": "code",
   "execution_count": 3,
   "id": "a907dd19",
   "metadata": {},
   "outputs": [],
   "source": [
    "DF = pd.read_csv(\"DataBooking.csv\")"
   ]
  },
  {
   "cell_type": "code",
   "execution_count": 4,
   "id": "ecd40288",
   "metadata": {},
   "outputs": [
    {
     "data": {
      "text/html": [
       "<div>\n",
       "<style scoped>\n",
       "    .dataframe tbody tr th:only-of-type {\n",
       "        vertical-align: middle;\n",
       "    }\n",
       "\n",
       "    .dataframe tbody tr th {\n",
       "        vertical-align: top;\n",
       "    }\n",
       "\n",
       "    .dataframe thead th {\n",
       "        text-align: right;\n",
       "    }\n",
       "</style>\n",
       "<table border=\"1\" class=\"dataframe\">\n",
       "  <thead>\n",
       "    <tr style=\"text-align: right;\">\n",
       "      <th></th>\n",
       "      <th>Unnamed: 0</th>\n",
       "      <th>hotel</th>\n",
       "      <th>Price</th>\n",
       "      <th>rating</th>\n",
       "      <th>reviews</th>\n",
       "      <th>loc(km from center)</th>\n",
       "    </tr>\n",
       "  </thead>\n",
       "  <tbody>\n",
       "    <tr>\n",
       "      <th>0</th>\n",
       "      <td>1</td>\n",
       "      <td>Al Waha Palace Hotel</td>\n",
       "      <td>307</td>\n",
       "      <td>7.8</td>\n",
       "      <td>2098</td>\n",
       "      <td>1.8</td>\n",
       "    </tr>\n",
       "    <tr>\n",
       "      <th>1</th>\n",
       "      <td>3</td>\n",
       "      <td>Voyage Hotel</td>\n",
       "      <td>466</td>\n",
       "      <td>8.6</td>\n",
       "      <td>4111</td>\n",
       "      <td>3.8</td>\n",
       "    </tr>\n",
       "    <tr>\n",
       "      <th>2</th>\n",
       "      <td>5</td>\n",
       "      <td>Carawan Al Fahad Hotel</td>\n",
       "      <td>350</td>\n",
       "      <td>8.1</td>\n",
       "      <td>2299</td>\n",
       "      <td>2.0</td>\n",
       "    </tr>\n",
       "    <tr>\n",
       "      <th>3</th>\n",
       "      <td>7</td>\n",
       "      <td>Gloria Inn Riyadh</td>\n",
       "      <td>326</td>\n",
       "      <td>7.9</td>\n",
       "      <td>4054</td>\n",
       "      <td>8.1</td>\n",
       "    </tr>\n",
       "    <tr>\n",
       "      <th>4</th>\n",
       "      <td>9</td>\n",
       "      <td>Rest Night Hotel Suites- - AL Nafal</td>\n",
       "      <td>250</td>\n",
       "      <td>7.4</td>\n",
       "      <td>2158</td>\n",
       "      <td>9.8</td>\n",
       "    </tr>\n",
       "    <tr>\n",
       "      <th>...</th>\n",
       "      <td>...</td>\n",
       "      <td>...</td>\n",
       "      <td>...</td>\n",
       "      <td>...</td>\n",
       "      <td>...</td>\n",
       "      <td>...</td>\n",
       "    </tr>\n",
       "    <tr>\n",
       "      <th>302</th>\n",
       "      <td>825</td>\n",
       "      <td>شالية فهد</td>\n",
       "      <td>1100</td>\n",
       "      <td>7.4</td>\n",
       "      <td>109</td>\n",
       "      <td>15.8</td>\n",
       "    </tr>\n",
       "    <tr>\n",
       "      <th>303</th>\n",
       "      <td>851</td>\n",
       "      <td>Sweet Homes</td>\n",
       "      <td>300</td>\n",
       "      <td>8.2</td>\n",
       "      <td>327</td>\n",
       "      <td>14.5</td>\n",
       "    </tr>\n",
       "    <tr>\n",
       "      <th>304</th>\n",
       "      <td>857</td>\n",
       "      <td>Mabaat Homes - Al Malqa - Luxury Apartment</td>\n",
       "      <td>1000</td>\n",
       "      <td>6.4</td>\n",
       "      <td>191</td>\n",
       "      <td>14.9</td>\n",
       "    </tr>\n",
       "    <tr>\n",
       "      <th>305</th>\n",
       "      <td>861</td>\n",
       "      <td>شاليه</td>\n",
       "      <td>1500</td>\n",
       "      <td>7.9</td>\n",
       "      <td>229</td>\n",
       "      <td>26.1</td>\n",
       "    </tr>\n",
       "    <tr>\n",
       "      <th>306</th>\n",
       "      <td>905</td>\n",
       "      <td>شالية فهد</td>\n",
       "      <td>1100</td>\n",
       "      <td>7.4</td>\n",
       "      <td>2158</td>\n",
       "      <td>15.8</td>\n",
       "    </tr>\n",
       "  </tbody>\n",
       "</table>\n",
       "<p>307 rows × 6 columns</p>\n",
       "</div>"
      ],
      "text/plain": [
       "     Unnamed: 0                                       hotel  Price  rating  \\\n",
       "0             1                        Al Waha Palace Hotel    307     7.8   \n",
       "1             3                                Voyage Hotel    466     8.6   \n",
       "2             5                      Carawan Al Fahad Hotel    350     8.1   \n",
       "3             7                           Gloria Inn Riyadh    326     7.9   \n",
       "4             9         Rest Night Hotel Suites- - AL Nafal    250     7.4   \n",
       "..          ...                                         ...    ...     ...   \n",
       "302         825                                   شالية فهد   1100     7.4   \n",
       "303         851                                 Sweet Homes    300     8.2   \n",
       "304         857  Mabaat Homes - Al Malqa - Luxury Apartment   1000     6.4   \n",
       "305         861                                       شاليه   1500     7.9   \n",
       "306         905                                   شالية فهد   1100     7.4   \n",
       "\n",
       "     reviews  loc(km from center)  \n",
       "0       2098                  1.8  \n",
       "1       4111                  3.8  \n",
       "2       2299                  2.0  \n",
       "3       4054                  8.1  \n",
       "4       2158                  9.8  \n",
       "..       ...                  ...  \n",
       "302      109                 15.8  \n",
       "303      327                 14.5  \n",
       "304      191                 14.9  \n",
       "305      229                 26.1  \n",
       "306     2158                 15.8  \n",
       "\n",
       "[307 rows x 6 columns]"
      ]
     },
     "execution_count": 4,
     "metadata": {},
     "output_type": "execute_result"
    }
   ],
   "source": [
    "DF"
   ]
  },
  {
   "cell_type": "markdown",
   "id": "ba71d106",
   "metadata": {},
   "source": [
    "# Remove Unnamed: 0 column"
   ]
  },
  {
   "cell_type": "code",
   "execution_count": 5,
   "id": "2f4653b3",
   "metadata": {},
   "outputs": [
    {
     "data": {
      "text/html": [
       "<div>\n",
       "<style scoped>\n",
       "    .dataframe tbody tr th:only-of-type {\n",
       "        vertical-align: middle;\n",
       "    }\n",
       "\n",
       "    .dataframe tbody tr th {\n",
       "        vertical-align: top;\n",
       "    }\n",
       "\n",
       "    .dataframe thead th {\n",
       "        text-align: right;\n",
       "    }\n",
       "</style>\n",
       "<table border=\"1\" class=\"dataframe\">\n",
       "  <thead>\n",
       "    <tr style=\"text-align: right;\">\n",
       "      <th></th>\n",
       "      <th>hotel</th>\n",
       "      <th>Price</th>\n",
       "      <th>rating</th>\n",
       "      <th>reviews</th>\n",
       "      <th>loc(km from center)</th>\n",
       "    </tr>\n",
       "  </thead>\n",
       "  <tbody>\n",
       "    <tr>\n",
       "      <th>0</th>\n",
       "      <td>Al Waha Palace Hotel</td>\n",
       "      <td>307</td>\n",
       "      <td>7.8</td>\n",
       "      <td>2098</td>\n",
       "      <td>1.8</td>\n",
       "    </tr>\n",
       "    <tr>\n",
       "      <th>1</th>\n",
       "      <td>Voyage Hotel</td>\n",
       "      <td>466</td>\n",
       "      <td>8.6</td>\n",
       "      <td>4111</td>\n",
       "      <td>3.8</td>\n",
       "    </tr>\n",
       "    <tr>\n",
       "      <th>2</th>\n",
       "      <td>Carawan Al Fahad Hotel</td>\n",
       "      <td>350</td>\n",
       "      <td>8.1</td>\n",
       "      <td>2299</td>\n",
       "      <td>2.0</td>\n",
       "    </tr>\n",
       "    <tr>\n",
       "      <th>3</th>\n",
       "      <td>Gloria Inn Riyadh</td>\n",
       "      <td>326</td>\n",
       "      <td>7.9</td>\n",
       "      <td>4054</td>\n",
       "      <td>8.1</td>\n",
       "    </tr>\n",
       "    <tr>\n",
       "      <th>4</th>\n",
       "      <td>Rest Night Hotel Suites- - AL Nafal</td>\n",
       "      <td>250</td>\n",
       "      <td>7.4</td>\n",
       "      <td>2158</td>\n",
       "      <td>9.8</td>\n",
       "    </tr>\n",
       "    <tr>\n",
       "      <th>...</th>\n",
       "      <td>...</td>\n",
       "      <td>...</td>\n",
       "      <td>...</td>\n",
       "      <td>...</td>\n",
       "      <td>...</td>\n",
       "    </tr>\n",
       "    <tr>\n",
       "      <th>302</th>\n",
       "      <td>شالية فهد</td>\n",
       "      <td>1100</td>\n",
       "      <td>7.4</td>\n",
       "      <td>109</td>\n",
       "      <td>15.8</td>\n",
       "    </tr>\n",
       "    <tr>\n",
       "      <th>303</th>\n",
       "      <td>Sweet Homes</td>\n",
       "      <td>300</td>\n",
       "      <td>8.2</td>\n",
       "      <td>327</td>\n",
       "      <td>14.5</td>\n",
       "    </tr>\n",
       "    <tr>\n",
       "      <th>304</th>\n",
       "      <td>Mabaat Homes - Al Malqa - Luxury Apartment</td>\n",
       "      <td>1000</td>\n",
       "      <td>6.4</td>\n",
       "      <td>191</td>\n",
       "      <td>14.9</td>\n",
       "    </tr>\n",
       "    <tr>\n",
       "      <th>305</th>\n",
       "      <td>شاليه</td>\n",
       "      <td>1500</td>\n",
       "      <td>7.9</td>\n",
       "      <td>229</td>\n",
       "      <td>26.1</td>\n",
       "    </tr>\n",
       "    <tr>\n",
       "      <th>306</th>\n",
       "      <td>شالية فهد</td>\n",
       "      <td>1100</td>\n",
       "      <td>7.4</td>\n",
       "      <td>2158</td>\n",
       "      <td>15.8</td>\n",
       "    </tr>\n",
       "  </tbody>\n",
       "</table>\n",
       "<p>307 rows × 5 columns</p>\n",
       "</div>"
      ],
      "text/plain": [
       "                                          hotel  Price  rating  reviews  \\\n",
       "0                          Al Waha Palace Hotel    307     7.8     2098   \n",
       "1                                  Voyage Hotel    466     8.6     4111   \n",
       "2                        Carawan Al Fahad Hotel    350     8.1     2299   \n",
       "3                             Gloria Inn Riyadh    326     7.9     4054   \n",
       "4           Rest Night Hotel Suites- - AL Nafal    250     7.4     2158   \n",
       "..                                          ...    ...     ...      ...   \n",
       "302                                   شالية فهد   1100     7.4      109   \n",
       "303                                 Sweet Homes    300     8.2      327   \n",
       "304  Mabaat Homes - Al Malqa - Luxury Apartment   1000     6.4      191   \n",
       "305                                       شاليه   1500     7.9      229   \n",
       "306                                   شالية فهد   1100     7.4     2158   \n",
       "\n",
       "     loc(km from center)  \n",
       "0                    1.8  \n",
       "1                    3.8  \n",
       "2                    2.0  \n",
       "3                    8.1  \n",
       "4                    9.8  \n",
       "..                   ...  \n",
       "302                 15.8  \n",
       "303                 14.5  \n",
       "304                 14.9  \n",
       "305                 26.1  \n",
       "306                 15.8  \n",
       "\n",
       "[307 rows x 5 columns]"
      ]
     },
     "execution_count": 5,
     "metadata": {},
     "output_type": "execute_result"
    }
   ],
   "source": [
    "DF.drop(columns=['Unnamed: 0'],inplace=True)\n",
    "DF"
   ]
  },
  {
   "cell_type": "code",
   "execution_count": 6,
   "id": "3ab72267",
   "metadata": {
    "scrolled": true
   },
   "outputs": [
    {
     "data": {
      "text/plain": [
       "<seaborn.axisgrid.PairGrid at 0x7f97d3490a30>"
      ]
     },
     "execution_count": 6,
     "metadata": {},
     "output_type": "execute_result"
    },
    {
     "data": {
      "image/png": "[encoded data removed]",
      "text/plain": [
       "<Figure size 720x720 with 20 Axes>"
      ]
     },
     "metadata": {
      "needs_background": "light"
     },
     "output_type": "display_data"
    }
   ],
   "source": [
    "sns.pairplot(DF)"
   ]
  },
  {
   "cell_type": "code",
   "execution_count": 7,
   "id": "882f6187",
   "metadata": {},
   "outputs": [
    {
     "name": "stdout",
     "output_type": "stream",
     "text": [
      "<class 'pandas.core.frame.DataFrame'>\n",
      "RangeIndex: 307 entries, 0 to 306\n",
      "Data columns (total 5 columns):\n",
      " #   Column               Non-Null Count  Dtype  \n",
      "---  ------               --------------  -----  \n",
      " 0   hotel                307 non-null    object \n",
      " 1   Price                307 non-null    int64  \n",
      " 2   rating               307 non-null    float64\n",
      " 3   reviews              307 non-null    int64  \n",
      " 4   loc(km from center)  307 non-null    float64\n",
      "dtypes: float64(2), int64(2), object(1)\n",
      "memory usage: 12.1+ KB\n"
     ]
    }
   ],
   "source": [
    "DF.info()"
   ]
  },
  {
   "cell_type": "markdown",
   "id": "20787e6a",
   "metadata": {},
   "source": [
    "# Feature Selection"
   ]
  },
  {
   "cell_type": "code",
   "execution_count": 8,
   "id": "cfdc30c8",
   "metadata": {},
   "outputs": [
    {
     "data": {
      "text/html": [
       "<div>\n",
       "<style scoped>\n",
       "    .dataframe tbody tr th:only-of-type {\n",
       "        vertical-align: middle;\n",
       "    }\n",
       "\n",
       "    .dataframe tbody tr th {\n",
       "        vertical-align: top;\n",
       "    }\n",
       "\n",
       "    .dataframe thead th {\n",
       "        text-align: right;\n",
       "    }\n",
       "</style>\n",
       "<table border=\"1\" class=\"dataframe\">\n",
       "  <thead>\n",
       "    <tr style=\"text-align: right;\">\n",
       "      <th></th>\n",
       "      <th>Price</th>\n",
       "      <th>rating</th>\n",
       "      <th>reviews</th>\n",
       "      <th>loc(km from center)</th>\n",
       "    </tr>\n",
       "  </thead>\n",
       "  <tbody>\n",
       "    <tr>\n",
       "      <th>Price</th>\n",
       "      <td>1.000000</td>\n",
       "      <td>0.124478</td>\n",
       "      <td>0.045447</td>\n",
       "      <td>0.010549</td>\n",
       "    </tr>\n",
       "    <tr>\n",
       "      <th>rating</th>\n",
       "      <td>0.124478</td>\n",
       "      <td>1.000000</td>\n",
       "      <td>0.150396</td>\n",
       "      <td>0.003583</td>\n",
       "    </tr>\n",
       "    <tr>\n",
       "      <th>reviews</th>\n",
       "      <td>0.045447</td>\n",
       "      <td>0.150396</td>\n",
       "      <td>1.000000</td>\n",
       "      <td>0.079530</td>\n",
       "    </tr>\n",
       "    <tr>\n",
       "      <th>loc(km from center)</th>\n",
       "      <td>0.010549</td>\n",
       "      <td>0.003583</td>\n",
       "      <td>0.079530</td>\n",
       "      <td>1.000000</td>\n",
       "    </tr>\n",
       "  </tbody>\n",
       "</table>\n",
       "</div>"
      ],
      "text/plain": [
       "                        Price    rating   reviews  loc(km from center)\n",
       "Price                1.000000  0.124478  0.045447             0.010549\n",
       "rating               0.124478  1.000000  0.150396             0.003583\n",
       "reviews              0.045447  0.150396  1.000000             0.079530\n",
       "loc(km from center)  0.010549  0.003583  0.079530             1.000000"
      ]
     },
     "execution_count": 8,
     "metadata": {},
     "output_type": "execute_result"
    }
   ],
   "source": [
    "DF.corr()"
   ]
  },
  {
   "cell_type": "code",
   "execution_count": 45,
   "id": "dc0e91fa",
   "metadata": {},
   "outputs": [
    {
     "data": {
      "image/png": "[encoded data removed]",
      "text/plain": [
       "<Figure size 1080x720 with 1 Axes>"
      ]
     },
     "metadata": {
      "needs_background": "light"
     },
     "output_type": "display_data"
    }
   ],
   "source": [
    "plt.subplots(figsize=(15,10))\n",
    "dataplot = sb.heatmap(DF.corr(),cbar=False, annot=True , cmap='Blues')"
   ]
  },
  {
   "cell_type": "code",
   "execution_count": 13,
   "id": "2b1fefe5",
   "metadata": {},
   "outputs": [
    {
     "data": {
      "text/html": [
       "<div>\n",
       "<style scoped>\n",
       "    .dataframe tbody tr th:only-of-type {\n",
       "        vertical-align: middle;\n",
       "    }\n",
       "\n",
       "    .dataframe tbody tr th {\n",
       "        vertical-align: top;\n",
       "    }\n",
       "\n",
       "    .dataframe thead th {\n",
       "        text-align: right;\n",
       "    }\n",
       "</style>\n",
       "<table border=\"1\" class=\"dataframe\">\n",
       "  <thead>\n",
       "    <tr style=\"text-align: right;\">\n",
       "      <th></th>\n",
       "      <th>Price</th>\n",
       "      <th>rating</th>\n",
       "      <th>reviews</th>\n",
       "      <th>loc(km from center)</th>\n",
       "    </tr>\n",
       "  </thead>\n",
       "  <tbody>\n",
       "    <tr>\n",
       "      <th>0</th>\n",
       "      <td>307</td>\n",
       "      <td>7.8</td>\n",
       "      <td>2098</td>\n",
       "      <td>1.8</td>\n",
       "    </tr>\n",
       "    <tr>\n",
       "      <th>1</th>\n",
       "      <td>466</td>\n",
       "      <td>8.6</td>\n",
       "      <td>4111</td>\n",
       "      <td>3.8</td>\n",
       "    </tr>\n",
       "    <tr>\n",
       "      <th>2</th>\n",
       "      <td>350</td>\n",
       "      <td>8.1</td>\n",
       "      <td>2299</td>\n",
       "      <td>2.0</td>\n",
       "    </tr>\n",
       "    <tr>\n",
       "      <th>3</th>\n",
       "      <td>326</td>\n",
       "      <td>7.9</td>\n",
       "      <td>4054</td>\n",
       "      <td>8.1</td>\n",
       "    </tr>\n",
       "    <tr>\n",
       "      <th>4</th>\n",
       "      <td>250</td>\n",
       "      <td>7.4</td>\n",
       "      <td>2158</td>\n",
       "      <td>9.8</td>\n",
       "    </tr>\n",
       "    <tr>\n",
       "      <th>...</th>\n",
       "      <td>...</td>\n",
       "      <td>...</td>\n",
       "      <td>...</td>\n",
       "      <td>...</td>\n",
       "    </tr>\n",
       "    <tr>\n",
       "      <th>302</th>\n",
       "      <td>1100</td>\n",
       "      <td>7.4</td>\n",
       "      <td>109</td>\n",
       "      <td>15.8</td>\n",
       "    </tr>\n",
       "    <tr>\n",
       "      <th>303</th>\n",
       "      <td>300</td>\n",
       "      <td>8.2</td>\n",
       "      <td>327</td>\n",
       "      <td>14.5</td>\n",
       "    </tr>\n",
       "    <tr>\n",
       "      <th>304</th>\n",
       "      <td>1000</td>\n",
       "      <td>6.4</td>\n",
       "      <td>191</td>\n",
       "      <td>14.9</td>\n",
       "    </tr>\n",
       "    <tr>\n",
       "      <th>305</th>\n",
       "      <td>1500</td>\n",
       "      <td>7.9</td>\n",
       "      <td>229</td>\n",
       "      <td>26.1</td>\n",
       "    </tr>\n",
       "    <tr>\n",
       "      <th>306</th>\n",
       "      <td>1100</td>\n",
       "      <td>7.4</td>\n",
       "      <td>2158</td>\n",
       "      <td>15.8</td>\n",
       "    </tr>\n",
       "  </tbody>\n",
       "</table>\n",
       "<p>307 rows × 4 columns</p>\n",
       "</div>"
      ],
      "text/plain": [
       "     Price  rating  reviews  loc(km from center)\n",
       "0      307     7.8     2098                  1.8\n",
       "1      466     8.6     4111                  3.8\n",
       "2      350     8.1     2299                  2.0\n",
       "3      326     7.9     4054                  8.1\n",
       "4      250     7.4     2158                  9.8\n",
       "..     ...     ...      ...                  ...\n",
       "302   1100     7.4      109                 15.8\n",
       "303    300     8.2      327                 14.5\n",
       "304   1000     6.4      191                 14.9\n",
       "305   1500     7.9      229                 26.1\n",
       "306   1100     7.4     2158                 15.8\n",
       "\n",
       "[307 rows x 4 columns]"
      ]
     },
     "execution_count": 13,
     "metadata": {},
     "output_type": "execute_result"
    }
   ],
   "source": [
    "Booking=DF[['Price', 'rating', 'reviews', 'loc(km from center)']]\n",
    "Booking"
   ]
  },
  {
   "cell_type": "markdown",
   "id": "7a5787a9",
   "metadata": {},
   "source": [
    "# Splitting the data"
   ]
  },
  {
   "cell_type": "code",
   "execution_count": 15,
   "id": "39f84003",
   "metadata": {},
   "outputs": [],
   "source": [
    "from sklearn.model_selection import train_test_split\n",
    "from sklearn.linear_model import LinearRegression, Ridge #ordinary linear regression + w/ ridge regularization\n",
    "from sklearn.preprocessing import StandardScaler, PolynomialFeatures"
   ]
  },
  {
   "cell_type": "code",
   "execution_count": 16,
   "id": "5a948fc7",
   "metadata": {},
   "outputs": [],
   "source": [
    "X = Booking.drop(['rating'], axis = 1)\n",
    "y = Booking['rating']\n",
    "\n",
    "X, X_test, y, y_test = train_test_split(X, y, test_size=0.2, random_state=42)\n",
    "X_train, X_val, y_train, y_val = train_test_split(X, y, test_size=0.2, random_state=42)"
   ]
  },
  {
   "cell_type": "markdown",
   "id": "27e725d6",
   "metadata": {},
   "source": [
    "# Linear Regression"
   ]
  },
  {
   "cell_type": "code",
   "execution_count": 17,
   "id": "9a8c06a5",
   "metadata": {},
   "outputs": [
    {
     "name": "stdout",
     "output_type": "stream",
     "text": [
      "0.015233128002762442\n"
     ]
    }
   ],
   "source": [
    "lr = LinearRegression()\n",
    "lr.fit(X_train,y_train)\n",
    "y_pred=lr.predict(X_test)\n",
    "#print(y_pred)\n",
    "print(r2_score(y_test, y_pred))"
   ]
  },
  {
   "cell_type": "code",
   "execution_count": 18,
   "id": "3a9f285c",
   "metadata": {},
   "outputs": [
    {
     "data": {
      "text/plain": [
       "0.016379510041951262"
      ]
     },
     "execution_count": 18,
     "metadata": {},
     "output_type": "execute_result"
    }
   ],
   "source": [
    "train_score = lr.score(X_train, y_train)\n",
    "train_score"
   ]
  },
  {
   "cell_type": "code",
   "execution_count": 19,
   "id": "9d4b6ede",
   "metadata": {},
   "outputs": [
    {
     "data": {
      "text/plain": [
       "-0.006077065161823159"
      ]
     },
     "execution_count": 19,
     "metadata": {},
     "output_type": "execute_result"
    }
   ],
   "source": [
    "val_score = lr.score(X_val, y_val)  \n",
    "val_score"
   ]
  },
  {
   "cell_type": "code",
   "execution_count": 20,
   "id": "1c44307f",
   "metadata": {},
   "outputs": [
    {
     "data": {
      "text/plain": [
       "0.015233128002762442"
      ]
     },
     "execution_count": 20,
     "metadata": {},
     "output_type": "execute_result"
    }
   ],
   "source": [
    "test_score = lr.score(X_test, y_test)\n",
    "test_score"
   ]
  },
  {
   "cell_type": "code",
   "execution_count": 30,
   "id": "9a4e1556",
   "metadata": {},
   "outputs": [
    {
     "data": {
      "image/png": "[encoded data removed]",
      "text/plain": [
       "<Figure size 432x288 with 1 Axes>"
      ]
     },
     "metadata": {
      "needs_background": "light"
     },
     "output_type": "display_data"
    }
   ],
   "source": [
    "# Actual Training Set(x) vs. predicted Training Set(y)\n",
    "y_train_pred = lr.predict(X_train)\n",
    "\n",
    "plt.scatter(y_train, y_train_pred, alpha=0.2)#cross valid do train only \n",
    "plt.title(\"Actual vs. predicted\", size=22)\n",
    "plt.xlabel('Actual Training Set', size=12)\n",
    "plt.ylabel('predicted Training Set', size=12)\n",
    "plt.plot([0, 400], [0, 400])\n",
    "plt.show()"
   ]
  },
  {
   "cell_type": "code",
   "execution_count": 31,
   "id": "894479a9",
   "metadata": {},
   "outputs": [
    {
     "data": {
      "image/png": "[encoded data removed]",
      "text/plain": [
       "<Figure size 432x288 with 1 Axes>"
      ]
     },
     "metadata": {
      "needs_background": "light"
     },
     "output_type": "display_data"
    }
   ],
   "source": [
    "# Actual Test Set(x) vs. predicted Test Set(y)\n",
    "y_test_pred = lr.predict(X_test)#cross valid do train only \n",
    "\n",
    "plt.scatter(y_test, y_test_pred, alpha=0.2)\n",
    "plt.title(\"Actual vs. predicted\", size=22)\n",
    "plt.xlabel('Actual Test Set', size=12)\n",
    "plt.ylabel('predicted Test Set ', size=12)\n",
    "plt.plot([0, 400], [0, 400])\n",
    "plt.show()"
   ]
  },
  {
   "cell_type": "code",
   "execution_count": 32,
   "id": "a5db35a6",
   "metadata": {},
   "outputs": [
    {
     "data": {
      "image/png": "[encoded data removed]",
      "text/plain": [
       "<Figure size 432x288 with 1 Axes>"
      ]
     },
     "metadata": {
      "needs_background": "light"
     },
     "output_type": "display_data"
    }
   ],
   "source": [
    "# Actual validation Set(x) vs. predicted validation Set(y)\n",
    "y_val_pred = lr.predict(X_val)#cross valid do train only \n",
    "\n",
    "plt.scatter(y_val, y_val_pred, alpha=0.2)\n",
    "plt.title(\"Actual vs. predicted\", size=22)\n",
    "plt.xlabel('Actual Valid Set', size=12)\n",
    "plt.ylabel('predicted Valid Set ', size=12)\n",
    "plt.plot([0, 400], [0, 400])\n",
    "plt.show()"
   ]
  },
  {
   "cell_type": "markdown",
   "id": "cc4ee3c8",
   "metadata": {},
   "source": [
    "# Polynomial Regression"
   ]
  },
  {
   "cell_type": "code",
   "execution_count": 21,
   "id": "d9c27d55",
   "metadata": {},
   "outputs": [
    {
     "data": {
      "text/plain": [
       "LinearRegression()"
      ]
     },
     "execution_count": 21,
     "metadata": {},
     "output_type": "execute_result"
    }
   ],
   "source": [
    "poly = PolynomialFeatures(degree=2)\n",
    "\n",
    "X_train_poly = poly.fit_transform(X_train)\n",
    "X_test_poly= poly.transform(X_test)\n",
    "X_val_poly= poly.transform(X_val)\n",
    "\n",
    "Plr = LinearRegression()\n",
    "Plr.fit(X_train_poly, y_train)"
   ]
  },
  {
   "cell_type": "code",
   "execution_count": 22,
   "id": "f4bd7aa1",
   "metadata": {},
   "outputs": [
    {
     "name": "stdout",
     "output_type": "stream",
     "text": [
      "0.15056347864008157\n"
     ]
    }
   ],
   "source": [
    "print(Plr.score(X_train_poly, y_train))"
   ]
  },
  {
   "cell_type": "code",
   "execution_count": 23,
   "id": "37cb8925",
   "metadata": {},
   "outputs": [
    {
     "name": "stdout",
     "output_type": "stream",
     "text": [
      "-0.7109993800988665\n"
     ]
    }
   ],
   "source": [
    "print(Plr.score(X_test_poly, y_test))"
   ]
  },
  {
   "cell_type": "code",
   "execution_count": 24,
   "id": "8403a82a",
   "metadata": {},
   "outputs": [
    {
     "name": "stdout",
     "output_type": "stream",
     "text": [
      "-4.034328004169531\n"
     ]
    }
   ],
   "source": [
    "print(Plr.score(X_val_poly, y_val))"
   ]
  },
  {
   "cell_type": "markdown",
   "id": "1e98fd46",
   "metadata": {},
   "source": [
    "# Lasso"
   ]
  },
  {
   "cell_type": "code",
   "execution_count": 36,
   "id": "14cd756f",
   "metadata": {},
   "outputs": [
    {
     "name": "stdout",
     "output_type": "stream",
     "text": [
      "Lasso Model:\n"
     ]
    },
    {
     "data": {
      "image/png": "[encoded data removed]",
      "text/plain": [
       "<Figure size 432x288 with 1 Axes>"
      ]
     },
     "metadata": {
      "needs_background": "light"
     },
     "output_type": "display_data"
    }
   ],
   "source": [
    "kfold = KFold(n_splits=5, shuffle=True, random_state=0)\n",
    "print(\"Lasso Model:\")\n",
    "params = {\n",
    "    \"alpha\": np.logspace(-4, -.1, 20)\n",
    "}\n",
    "\n",
    "grid_est = GridSearchCV(Lasso(), param_grid=params, cv=kfold, \n",
    "                        return_train_score=False)\n",
    "grid_est.fit(X_train, y_train)\n",
    "DF_L = pd.DataFrame(grid_est.cv_results_)\n",
    "DF_L[\"alpha\"] = DF_L.params.apply(lambda val: val[\"alpha\"])\n",
    "plt.plot(np.log(DF_L.alpha), DF_L.mean_test_score);"
   ]
  },
  {
   "cell_type": "code",
   "execution_count": 37,
   "id": "2d154d5e",
   "metadata": {},
   "outputs": [
    {
     "data": {
      "text/plain": [
       "Lasso(alpha=0.7943282347242815)"
      ]
     },
     "execution_count": 37,
     "metadata": {},
     "output_type": "execute_result"
    }
   ],
   "source": [
    "grid_est.best_estimator_\n"
   ]
  },
  {
   "cell_type": "code",
   "execution_count": 35,
   "id": "944e300a",
   "metadata": {},
   "outputs": [
    {
     "data": {
      "text/plain": [
       "array([1.00000000e-04, 1.60421716e-04, 2.57351270e-04, 4.12847324e-04,\n",
       "       6.62296762e-04, 1.06246783e-03, 1.70442913e-03, 2.73427446e-03,\n",
       "       4.38637001e-03, 7.03669004e-03, 1.12883789e-02, 1.81090112e-02,\n",
       "       2.90507865e-02, 4.66037703e-02, 7.47625680e-02, 1.19935395e-01,\n",
       "       1.92402418e-01, 3.08655261e-01, 4.95150067e-01, 7.94328235e-01])"
      ]
     },
     "execution_count": 35,
     "metadata": {},
     "output_type": "execute_result"
    }
   ],
   "source": [
    "params['alpha']"
   ]
  },
  {
   "cell_type": "code",
   "execution_count": 38,
   "id": "0494e240",
   "metadata": {},
   "outputs": [
    {
     "name": "stdout",
     "output_type": "stream",
     "text": [
      "Ridge Model:\n"
     ]
    },
    {
     "data": {
      "image/png": "[encoded data removed]",
      "text/plain": [
       "<Figure size 432x288 with 1 Axes>"
      ]
     },
     "metadata": {
      "needs_background": "light"
     },
     "output_type": "display_data"
    }
   ],
   "source": [
    "print(\"Ridge Model:\")\n",
    "params = {\n",
    "    \"alpha\": np.logspace(-4, -.1, 20)\n",
    "}\n",
    "\n",
    "grid_est_R = GridSearchCV(Ridge(), param_grid=params, cv=kfold, \n",
    "                        return_train_score=False)\n",
    "grid_est_R.fit(X_train, y_train)\n",
    "df_R = pd.DataFrame(grid_est_R.cv_results_)\n",
    "df_R[\"alpha\"] = df_R.params.apply(lambda val: val[\"alpha\"])\n",
    "plt.plot(np.log(df_R.alpha), df_R.mean_test_score);"
   ]
  },
  {
   "cell_type": "code",
   "execution_count": 39,
   "id": "f6d3df2d",
   "metadata": {},
   "outputs": [
    {
     "name": "stdout",
     "output_type": "stream",
     "text": [
      "Lasso Regression: 0.0144761239956126\n",
      "Ridge Regression: 0.015233124270212284\n"
     ]
    }
   ],
   "source": [
    "y_pred = grid_est.predict(X_test)\n",
    "print(\"Lasso Regression:\", r2_score(y_test, y_pred))\n",
    "\n",
    "y_pred = grid_est_R.predict(X_test)\n",
    "print(\"Ridge Regression:\", r2_score(y_test, y_pred))"
   ]
  },
  {
   "cell_type": "code",
   "execution_count": 40,
   "id": "59c1745c",
   "metadata": {},
   "outputs": [
    {
     "name": "stdout",
     "output_type": "stream",
     "text": [
      "Lasso Regression: 0.010134381204934484\n",
      "Ridge Regression: -0.0060770298276793255\n"
     ]
    }
   ],
   "source": [
    "y_pred = grid_est.predict(X_val)\n",
    "print(\"Lasso Regression:\", r2_score(y_val, y_pred))\n",
    "\n",
    "y_pred = grid_est_R.predict(X_val)\n",
    "print(\"Ridge Regression:\", r2_score(y_val, y_pred))"
   ]
  },
  {
   "cell_type": "code",
   "execution_count": null,
   "id": "03c18f37",
   "metadata": {},
   "outputs": [],
   "source": []
  }
 ],
 "metadata": {
  "kernelspec": {
   "display_name": "Python 3",
   "language": "python",
   "name": "python3"
  },
  "language_info": {
   "codemirror_mode": {
    "name": "ipython",
    "version": 3
   },
   "file_extension": ".py",
   "mimetype": "text/x-python",
   "name": "python",
   "nbconvert_exporter": "python",
   "pygments_lexer": "ipython3",
   "version": "3.8.8"
  }
 },
 "nbformat": 4,
 "nbformat_minor": 5
}
