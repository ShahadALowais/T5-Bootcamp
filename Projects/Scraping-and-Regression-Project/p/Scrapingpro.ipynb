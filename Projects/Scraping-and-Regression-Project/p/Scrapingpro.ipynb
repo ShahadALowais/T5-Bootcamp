{
 "cells": [
  {
   "cell_type": "code",
   "execution_count": 1,
   "id": "36e128f5",
   "metadata": {},
   "outputs": [
    {
     "name": "stdout",
     "output_type": "stream",
     "text": [
      "Requirement already satisfied: beautifulsoup4 in /opt/anaconda3/lib/python3.8/site-packages (4.9.3)\n",
      "Requirement already satisfied: requests in /opt/anaconda3/lib/python3.8/site-packages (2.25.1)\n",
      "Requirement already satisfied: lxml in /opt/anaconda3/lib/python3.8/site-packages (4.6.3)\n",
      "Requirement already satisfied: html5lib in /opt/anaconda3/lib/python3.8/site-packages (1.1)\n",
      "Requirement already satisfied: soupsieve>1.2 in /opt/anaconda3/lib/python3.8/site-packages (from beautifulsoup4) (2.2.1)\n",
      "Requirement already satisfied: six>=1.9 in /opt/anaconda3/lib/python3.8/site-packages (from html5lib) (1.15.0)\n",
      "Requirement already satisfied: webencodings in /opt/anaconda3/lib/python3.8/site-packages (from html5lib) (0.5.1)\n",
      "Requirement already satisfied: urllib3<1.27,>=1.21.1 in /opt/anaconda3/lib/python3.8/site-packages (from requests) (1.26.4)\n",
      "Requirement already satisfied: idna<3,>=2.5 in /opt/anaconda3/lib/python3.8/site-packages (from requests) (2.10)\n",
      "Requirement already satisfied: chardet<5,>=3.0.2 in /opt/anaconda3/lib/python3.8/site-packages (from requests) (4.0.0)\n",
      "Requirement already satisfied: certifi>=2017.4.17 in /opt/anaconda3/lib/python3.8/site-packages (from requests) (2020.12.5)\n",
      "Note: you may need to restart the kernel to use updated packages.\n"
     ]
    }
   ],
   "source": [
    "pip install beautifulsoup4 requests lxml html5lib"
   ]
  },
  {
   "cell_type": "code",
   "execution_count": 2,
   "id": "e5d60227",
   "metadata": {},
   "outputs": [],
   "source": [
    "from bs4 import BeautifulSoup as bs\n",
    "import requests\n",
    "import time, os\n",
    "import pandas as pd\n",
    "import numpy as np\n",
    "import csv\n",
    "from itertools import zip_longest\n",
    "from bs4 import BeautifulSoup\n",
    "\n"
   ]
  },
  {
   "cell_type": "markdown",
   "id": "9cd32cd1",
   "metadata": {},
   "source": [
    "# Web Scraping\n"
   ]
  },
  {
   "cell_type": "code",
   "execution_count": 3,
   "id": "3f9ed675",
   "metadata": {},
   "outputs": [],
   "source": [
    "from selenium import webdriver\n",
    "from selenium.webdriver.common.keys import Keys\n",
    "\n",
    "chromedriver = \"/Applications/chromedriver\" # path to the chromedriver executable\n",
    "os.environ[\"webdriver.chrome.driver\"] = chromedriver"
   ]
  },
  {
   "cell_type": "code",
   "execution_count": 4,
   "id": "ac131b54",
   "metadata": {},
   "outputs": [],
   "source": [
    "Booking_search = \"https://www.booking.com/searchresults.html?aid=397594&label=gog235jc-1FCAEoggI46AdIM1gDaMQBiAEBmAEBuAEHyAEN2AEB6AEB-AEMiAIBqAIDuAKrp4WNBsACAdICJDViMjFmN2I1LWRiYzYtNDBjMC1iZDAzLTBiM2VjMWM3NDU0YtgCBuACAQ&sid=b63ed7ee092f6d6ca0bb0284fa6824a3&sb=1&sb_lp=1&src=index&src_elem=sb&error_url=https%3A%2F%2Fwww.booking.com%2Findex.html%3Faid%3D397594%3Blabel%3Dgog235jc-1FCAEoggI46AdIM1gDaMQBiAEBmAEBuAEHyAEN2AEB6AEB-AEMiAIBqAIDuAKrp4WNBsACAdICJDViMjFmN2I1LWRiYzYtNDBjMC1iZDAzLTBiM2VjMWM3NDU0YtgCBuACAQ%3Bsid%3Db63ed7ee092f6d6ca0bb0284fa6824a3%3Bsb_price_type%3Dtotal%26%3B&ss=Riyadh&is_ski_area=0&ssne=Riyadh&ssne_untouched=Riyadh&dest_id=900040280&dest_type=city&checkin_year=2021&checkin_month=12&checkin_monthday=20&checkout_year=2021&checkout_month=12&checkout_monthday=21&group_adults=2&group_children=0&no_rooms=1&b_h4u_keep_filters=&from_sf=1\"\n",
    "Booking_query = Booking_search"
   ]
  },
  {
   "cell_type": "code",
   "execution_count": 5,
   "id": "97f9392a",
   "metadata": {},
   "outputs": [],
   "source": [
    "driver = webdriver.Chrome(chromedriver)\n",
    "driver.get(Booking_query)\n"
   ]
  },
  {
   "cell_type": "code",
   "execution_count": 6,
   "id": "11983d8c",
   "metadata": {},
   "outputs": [],
   "source": [
    "page = requests.get(Booking_query).text\n",
    "soup = BeautifulSoup(page,'html5lib')"
   ]
  },
  {
   "cell_type": "code",
   "execution_count": 7,
   "id": "60c34fbb",
   "metadata": {},
   "outputs": [
    {
     "name": "stdout",
     "output_type": "stream",
     "text": [
      "['InterContinental Riyadh, an IHG Hotel', 'Al Waha Palace Hotel', 'Voyage Hotel', 'Carawan Al Fahad Hotel', 'Rest Night Hotel Suites- - AL Nafal', 'Gloria Inn Riyadh', 'Burj Rafal Riyadh, a Marriott International Hotel', 'Grand Plaza Hotel-Dhabab Riyadh', 'Crowne Plaza Riyadh - RDC Hotel & Convention, an IHG Hotel', 'Executives Hotel - Olaya', 'Roof Hotel Apartments', 'Art View Hotel Al Riyadh', 'Braira Qurtubah', 'Al Mashreq Boutique Hotel – Small Luxury Hotels of the World', 'Sheraton Riyadh Hotel & Towers', 'The Ritz-Carlton, Riyadh', 'Holiday Inn Riyadh Izdihar, an IHG Hotel', 'Crowne Plaza Riyadh Al Waha, an IHG Hotel', 'Hilton Garden Inn Riyadh Olaya', 'Hilton Garden Inn Riyadh Financial District', 'Courtyard by Marriott Riyadh Olaya', 'Courtyard by Marriott Riyadh Northern Ring Road', 'Courtyard Riyadh by Marriott Diplomatic Quarter', 'DoubleTree by Hilton Hotel Riyadh - Al Muroj Business Gate', 'Crowne Plaza Hotel Riyadh Minhal, an IHG Hotel', 'Radisson Blu Hotel, Riyadh', 'Aswar Hotel Suites Riyadh']\n"
     ]
    }
   ],
   "source": [
    "hotel=[]\n",
    "for i in driver.find_elements_by_class_name('_c445487e2'):\n",
    "    hotel.append(i.text)\n",
    "\n",
    "print(hotel)"
   ]
  },
  {
   "cell_type": "code",
   "execution_count": 8,
   "id": "f7c05696",
   "metadata": {},
   "outputs": [
    {
     "name": "stdout",
     "output_type": "stream",
     "text": [
      "['SAR 585', 'SAR 307', 'SAR 466', 'SAR 350', 'SAR 250', 'SAR 370', 'SAR 990', 'SAR 350', 'SAR 925', 'SAR 444.19', 'SAR 399', 'SAR 513', 'SAR 551', 'SAR 890', 'SAR 650', 'SAR 1,499', 'SAR 570', 'SAR 473', 'SAR 410', 'SAR 816', 'SAR 775', 'SAR 600', 'SAR 650', 'SAR 698', 'SAR 460', 'SAR 560', 'SAR 638']\n"
     ]
    }
   ],
   "source": [
    "\n",
    "price=[]\n",
    "for i in driver.find_elements_by_class_name('_e885fdc12'):\n",
    "    price.append(i.text)\n",
    "\n",
    "print(price)"
   ]
  },
  {
   "cell_type": "code",
   "execution_count": 9,
   "id": "f41bba3c",
   "metadata": {},
   "outputs": [
    {
     "name": "stdout",
     "output_type": "stream",
     "text": [
      "['7.8', '7.8', '8.6', '8.1', '7.4', '7.9', '7.8', '7.8', '8.8', '7.9', '8.1', '8.1', '8.1', '7.9', '7.9', '8.6', '7.7', '7.5', '7.1', '7.5', '8.3', '8.1', '8.1', '7.6', '8.7', '7.8', '8.5']\n"
     ]
    }
   ],
   "source": [
    "rating=[]\n",
    "for i in driver.find_elements_by_class_name('bd528f9ea6'):\n",
    "    rating.append(i.text)\n",
    "\n",
    "print(rating)"
   ]
  },
  {
   "cell_type": "code",
   "execution_count": 10,
   "id": "6d3311e8",
   "metadata": {},
   "outputs": [
    {
     "name": "stdout",
     "output_type": "stream",
     "text": [
      "['1,322 reviews', '2,098 reviews', '4,111 reviews', '2,299 reviews', '2,158 reviews', '4,054 reviews', '4,674 reviews', '1,008 reviews', '2,250 reviews', '5,686 reviews', '457 reviews', '1,906 reviews', '5,461 reviews', '1,784 reviews', '972 reviews', '3,435 reviews', '1,669 reviews', '1,861 reviews', '639 reviews', '901 reviews', '2,897 reviews', '1,155 reviews', '2,440 reviews', '3,393 reviews', '1,334 reviews', '2,152 reviews', '1,465 reviews']\n"
     ]
    }
   ],
   "source": [
    "reviews=[]\n",
    "for i in driver.find_elements_by_class_name('_1e6021d2f'):\n",
    "    reviews.append(i.text)\n",
    "\n",
    "print(reviews)"
   ]
  },
  {
   "cell_type": "code",
   "execution_count": 11,
   "id": "f672de7e",
   "metadata": {},
   "outputs": [
    {
     "name": "stdout",
     "output_type": "stream",
     "text": [
      "['3.4 km from center', '1.8 km from center', '3.8 km from center', '2 km from center', '9.8 km from center', '8.1 km from center', '11.9 km from center', '4.3 km from center', '6.7 km from center', '1.5 km from center', '11.2 km from center', '7.7 km from center', '14.9 km from center', '2.8 km from center', '3.9 km from center', '6 km from center', '10.8 km from center', '6.9 km from center', '2.5 km from center', '8.3 km from center', '800 m from center', '7.9 km from center', '6.6 km from center', '7.9 km from center', '3.8 km from center', '4.7 km from center', '12.2 km from center']\n"
     ]
    }
   ],
   "source": [
    "loc=[]\n",
    "for i in driver.find_elements_by_css_selector('[data-testid~=\\\"distance\\\"]'):\n",
    "        loc.append(i.text)\n",
    "\n",
    "print(loc)"
   ]
  },
  {
   "cell_type": "code",
   "execution_count": null,
   "id": "339ca3aa",
   "metadata": {
    "scrolled": true
   },
   "outputs": [],
   "source": []
  },
  {
   "cell_type": "code",
   "execution_count": 33,
   "id": "deb2413c",
   "metadata": {},
   "outputs": [],
   "source": [
    "records=[]\n",
    "def get_data_info() :\n",
    "   \n",
    "    for i in range(0,450, 25):\n",
    "        sport_url = 'https://www.booking.com/searchresults.html?aid=397594&label=gog235jc-1FCAEoggI46AdIM1gDaMQBiAEBmAEBuAEHyAEN2AEB6AEB-AEMiAIBqAIDuAKrp4WNBsACAdICJDViMjFmN2I1LWRiYzYtNDBjMC1iZDAzLTBiM2VjMWM3NDU0YtgCBuACAQ&sid=b63ed7ee092f6d6ca0bb0284fa6824a3&sb=1&sb_lp=1&src=index&src_elem=sb&error_url=https%3A%2F%2Fwww.booking.com%2Findex.html%3Faid%3D397594%3Blabel%3Dgog235jc-1FCAEoggI46AdIM1gDaMQBiAEBmAEBuAEHyAEN2AEB6AEB-AEMiAIBqAIDuAKrp4WNBsACAdICJDViMjFmN2I1LWRiYzYtNDBjMC1iZDAzLTBiM2VjMWM3NDU0YtgCBuACAQ%3Bsid%3Db63ed7ee092f6d6ca0bb0284fa6824a3%3Bsb_price_type%3Dtotal%26%3B&ss=Riyadh&is_ski_area=0&ssne=Riyadh&ssne_untouched=Riyadh&dest_id=900040280&dest_type=city&checkin_year=2021&checkin_month=12&checkin_monthday=20&checkout_year=2021&checkout_month=12&checkout_monthday=21&group_adults=2&group_children=0&no_rooms=1&b_h4u_keep_filters=&rom_sf=0&offset='+str(i)\n",
    "        records.append(sport_url)\n",
    "        print(sport_url)\n",
    "        driver.get(sport_url)\n",
    "        time.sleep(1)\n",
    "        soup = BeautifulSoup(driver.page_source, \"html5lib\")\n",
    "        \n",
    "        \n",
    "        \n",
    "\n",
    "        \n",
    "        time.sleep(1)\n",
    "    return records\n"
   ]
  },
  {
   "cell_type": "code",
   "execution_count": 34,
   "id": "c56dfcee",
   "metadata": {},
   "outputs": [
    {
     "name": "stdout",
     "output_type": "stream",
     "text": [
      "https://www.booking.com/searchresults.html?aid=397594&label=gog235jc-1FCAEoggI46AdIM1gDaMQBiAEBmAEBuAEHyAEN2AEB6AEB-AEMiAIBqAIDuAKrp4WNBsACAdICJDViMjFmN2I1LWRiYzYtNDBjMC1iZDAzLTBiM2VjMWM3NDU0YtgCBuACAQ&sid=b63ed7ee092f6d6ca0bb0284fa6824a3&sb=1&sb_lp=1&src=index&src_elem=sb&error_url=https%3A%2F%2Fwww.booking.com%2Findex.html%3Faid%3D397594%3Blabel%3Dgog235jc-1FCAEoggI46AdIM1gDaMQBiAEBmAEBuAEHyAEN2AEB6AEB-AEMiAIBqAIDuAKrp4WNBsACAdICJDViMjFmN2I1LWRiYzYtNDBjMC1iZDAzLTBiM2VjMWM3NDU0YtgCBuACAQ%3Bsid%3Db63ed7ee092f6d6ca0bb0284fa6824a3%3Bsb_price_type%3Dtotal%26%3B&ss=Riyadh&is_ski_area=0&ssne=Riyadh&ssne_untouched=Riyadh&dest_id=900040280&dest_type=city&checkin_year=2021&checkin_month=12&checkin_monthday=20&checkout_year=2021&checkout_month=12&checkout_monthday=21&group_adults=2&group_children=0&no_rooms=1&b_h4u_keep_filters=&rom_sf=0&offset=0\n",
      "https://www.booking.com/searchresults.html?aid=397594&label=gog235jc-1FCAEoggI46AdIM1gDaMQBiAEBmAEBuAEHyAEN2AEB6AEB-AEMiAIBqAIDuAKrp4WNBsACAdICJDViMjFmN2I1LWRiYzYtNDBjMC1iZDAzLTBiM2VjMWM3NDU0YtgCBuACAQ&sid=b63ed7ee092f6d6ca0bb0284fa6824a3&sb=1&sb_lp=1&src=index&src_elem=sb&error_url=https%3A%2F%2Fwww.booking.com%2Findex.html%3Faid%3D397594%3Blabel%3Dgog235jc-1FCAEoggI46AdIM1gDaMQBiAEBmAEBuAEHyAEN2AEB6AEB-AEMiAIBqAIDuAKrp4WNBsACAdICJDViMjFmN2I1LWRiYzYtNDBjMC1iZDAzLTBiM2VjMWM3NDU0YtgCBuACAQ%3Bsid%3Db63ed7ee092f6d6ca0bb0284fa6824a3%3Bsb_price_type%3Dtotal%26%3B&ss=Riyadh&is_ski_area=0&ssne=Riyadh&ssne_untouched=Riyadh&dest_id=900040280&dest_type=city&checkin_year=2021&checkin_month=12&checkin_monthday=20&checkout_year=2021&checkout_month=12&checkout_monthday=21&group_adults=2&group_children=0&no_rooms=1&b_h4u_keep_filters=&rom_sf=0&offset=25\n",
      "https://www.booking.com/searchresults.html?aid=397594&label=gog235jc-1FCAEoggI46AdIM1gDaMQBiAEBmAEBuAEHyAEN2AEB6AEB-AEMiAIBqAIDuAKrp4WNBsACAdICJDViMjFmN2I1LWRiYzYtNDBjMC1iZDAzLTBiM2VjMWM3NDU0YtgCBuACAQ&sid=b63ed7ee092f6d6ca0bb0284fa6824a3&sb=1&sb_lp=1&src=index&src_elem=sb&error_url=https%3A%2F%2Fwww.booking.com%2Findex.html%3Faid%3D397594%3Blabel%3Dgog235jc-1FCAEoggI46AdIM1gDaMQBiAEBmAEBuAEHyAEN2AEB6AEB-AEMiAIBqAIDuAKrp4WNBsACAdICJDViMjFmN2I1LWRiYzYtNDBjMC1iZDAzLTBiM2VjMWM3NDU0YtgCBuACAQ%3Bsid%3Db63ed7ee092f6d6ca0bb0284fa6824a3%3Bsb_price_type%3Dtotal%26%3B&ss=Riyadh&is_ski_area=0&ssne=Riyadh&ssne_untouched=Riyadh&dest_id=900040280&dest_type=city&checkin_year=2021&checkin_month=12&checkin_monthday=20&checkout_year=2021&checkout_month=12&checkout_monthday=21&group_adults=2&group_children=0&no_rooms=1&b_h4u_keep_filters=&rom_sf=0&offset=50\n",
      "https://www.booking.com/searchresults.html?aid=397594&label=gog235jc-1FCAEoggI46AdIM1gDaMQBiAEBmAEBuAEHyAEN2AEB6AEB-AEMiAIBqAIDuAKrp4WNBsACAdICJDViMjFmN2I1LWRiYzYtNDBjMC1iZDAzLTBiM2VjMWM3NDU0YtgCBuACAQ&sid=b63ed7ee092f6d6ca0bb0284fa6824a3&sb=1&sb_lp=1&src=index&src_elem=sb&error_url=https%3A%2F%2Fwww.booking.com%2Findex.html%3Faid%3D397594%3Blabel%3Dgog235jc-1FCAEoggI46AdIM1gDaMQBiAEBmAEBuAEHyAEN2AEB6AEB-AEMiAIBqAIDuAKrp4WNBsACAdICJDViMjFmN2I1LWRiYzYtNDBjMC1iZDAzLTBiM2VjMWM3NDU0YtgCBuACAQ%3Bsid%3Db63ed7ee092f6d6ca0bb0284fa6824a3%3Bsb_price_type%3Dtotal%26%3B&ss=Riyadh&is_ski_area=0&ssne=Riyadh&ssne_untouched=Riyadh&dest_id=900040280&dest_type=city&checkin_year=2021&checkin_month=12&checkin_monthday=20&checkout_year=2021&checkout_month=12&checkout_monthday=21&group_adults=2&group_children=0&no_rooms=1&b_h4u_keep_filters=&rom_sf=0&offset=75\n",
      "https://www.booking.com/searchresults.html?aid=397594&label=gog235jc-1FCAEoggI46AdIM1gDaMQBiAEBmAEBuAEHyAEN2AEB6AEB-AEMiAIBqAIDuAKrp4WNBsACAdICJDViMjFmN2I1LWRiYzYtNDBjMC1iZDAzLTBiM2VjMWM3NDU0YtgCBuACAQ&sid=b63ed7ee092f6d6ca0bb0284fa6824a3&sb=1&sb_lp=1&src=index&src_elem=sb&error_url=https%3A%2F%2Fwww.booking.com%2Findex.html%3Faid%3D397594%3Blabel%3Dgog235jc-1FCAEoggI46AdIM1gDaMQBiAEBmAEBuAEHyAEN2AEB6AEB-AEMiAIBqAIDuAKrp4WNBsACAdICJDViMjFmN2I1LWRiYzYtNDBjMC1iZDAzLTBiM2VjMWM3NDU0YtgCBuACAQ%3Bsid%3Db63ed7ee092f6d6ca0bb0284fa6824a3%3Bsb_price_type%3Dtotal%26%3B&ss=Riyadh&is_ski_area=0&ssne=Riyadh&ssne_untouched=Riyadh&dest_id=900040280&dest_type=city&checkin_year=2021&checkin_month=12&checkin_monthday=20&checkout_year=2021&checkout_month=12&checkout_monthday=21&group_adults=2&group_children=0&no_rooms=1&b_h4u_keep_filters=&rom_sf=0&offset=100\n",
      "https://www.booking.com/searchresults.html?aid=397594&label=gog235jc-1FCAEoggI46AdIM1gDaMQBiAEBmAEBuAEHyAEN2AEB6AEB-AEMiAIBqAIDuAKrp4WNBsACAdICJDViMjFmN2I1LWRiYzYtNDBjMC1iZDAzLTBiM2VjMWM3NDU0YtgCBuACAQ&sid=b63ed7ee092f6d6ca0bb0284fa6824a3&sb=1&sb_lp=1&src=index&src_elem=sb&error_url=https%3A%2F%2Fwww.booking.com%2Findex.html%3Faid%3D397594%3Blabel%3Dgog235jc-1FCAEoggI46AdIM1gDaMQBiAEBmAEBuAEHyAEN2AEB6AEB-AEMiAIBqAIDuAKrp4WNBsACAdICJDViMjFmN2I1LWRiYzYtNDBjMC1iZDAzLTBiM2VjMWM3NDU0YtgCBuACAQ%3Bsid%3Db63ed7ee092f6d6ca0bb0284fa6824a3%3Bsb_price_type%3Dtotal%26%3B&ss=Riyadh&is_ski_area=0&ssne=Riyadh&ssne_untouched=Riyadh&dest_id=900040280&dest_type=city&checkin_year=2021&checkin_month=12&checkin_monthday=20&checkout_year=2021&checkout_month=12&checkout_monthday=21&group_adults=2&group_children=0&no_rooms=1&b_h4u_keep_filters=&rom_sf=0&offset=125\n",
      "https://www.booking.com/searchresults.html?aid=397594&label=gog235jc-1FCAEoggI46AdIM1gDaMQBiAEBmAEBuAEHyAEN2AEB6AEB-AEMiAIBqAIDuAKrp4WNBsACAdICJDViMjFmN2I1LWRiYzYtNDBjMC1iZDAzLTBiM2VjMWM3NDU0YtgCBuACAQ&sid=b63ed7ee092f6d6ca0bb0284fa6824a3&sb=1&sb_lp=1&src=index&src_elem=sb&error_url=https%3A%2F%2Fwww.booking.com%2Findex.html%3Faid%3D397594%3Blabel%3Dgog235jc-1FCAEoggI46AdIM1gDaMQBiAEBmAEBuAEHyAEN2AEB6AEB-AEMiAIBqAIDuAKrp4WNBsACAdICJDViMjFmN2I1LWRiYzYtNDBjMC1iZDAzLTBiM2VjMWM3NDU0YtgCBuACAQ%3Bsid%3Db63ed7ee092f6d6ca0bb0284fa6824a3%3Bsb_price_type%3Dtotal%26%3B&ss=Riyadh&is_ski_area=0&ssne=Riyadh&ssne_untouched=Riyadh&dest_id=900040280&dest_type=city&checkin_year=2021&checkin_month=12&checkin_monthday=20&checkout_year=2021&checkout_month=12&checkout_monthday=21&group_adults=2&group_children=0&no_rooms=1&b_h4u_keep_filters=&rom_sf=0&offset=150\n",
      "https://www.booking.com/searchresults.html?aid=397594&label=gog235jc-1FCAEoggI46AdIM1gDaMQBiAEBmAEBuAEHyAEN2AEB6AEB-AEMiAIBqAIDuAKrp4WNBsACAdICJDViMjFmN2I1LWRiYzYtNDBjMC1iZDAzLTBiM2VjMWM3NDU0YtgCBuACAQ&sid=b63ed7ee092f6d6ca0bb0284fa6824a3&sb=1&sb_lp=1&src=index&src_elem=sb&error_url=https%3A%2F%2Fwww.booking.com%2Findex.html%3Faid%3D397594%3Blabel%3Dgog235jc-1FCAEoggI46AdIM1gDaMQBiAEBmAEBuAEHyAEN2AEB6AEB-AEMiAIBqAIDuAKrp4WNBsACAdICJDViMjFmN2I1LWRiYzYtNDBjMC1iZDAzLTBiM2VjMWM3NDU0YtgCBuACAQ%3Bsid%3Db63ed7ee092f6d6ca0bb0284fa6824a3%3Bsb_price_type%3Dtotal%26%3B&ss=Riyadh&is_ski_area=0&ssne=Riyadh&ssne_untouched=Riyadh&dest_id=900040280&dest_type=city&checkin_year=2021&checkin_month=12&checkin_monthday=20&checkout_year=2021&checkout_month=12&checkout_monthday=21&group_adults=2&group_children=0&no_rooms=1&b_h4u_keep_filters=&rom_sf=0&offset=175\n",
      "https://www.booking.com/searchresults.html?aid=397594&label=gog235jc-1FCAEoggI46AdIM1gDaMQBiAEBmAEBuAEHyAEN2AEB6AEB-AEMiAIBqAIDuAKrp4WNBsACAdICJDViMjFmN2I1LWRiYzYtNDBjMC1iZDAzLTBiM2VjMWM3NDU0YtgCBuACAQ&sid=b63ed7ee092f6d6ca0bb0284fa6824a3&sb=1&sb_lp=1&src=index&src_elem=sb&error_url=https%3A%2F%2Fwww.booking.com%2Findex.html%3Faid%3D397594%3Blabel%3Dgog235jc-1FCAEoggI46AdIM1gDaMQBiAEBmAEBuAEHyAEN2AEB6AEB-AEMiAIBqAIDuAKrp4WNBsACAdICJDViMjFmN2I1LWRiYzYtNDBjMC1iZDAzLTBiM2VjMWM3NDU0YtgCBuACAQ%3Bsid%3Db63ed7ee092f6d6ca0bb0284fa6824a3%3Bsb_price_type%3Dtotal%26%3B&ss=Riyadh&is_ski_area=0&ssne=Riyadh&ssne_untouched=Riyadh&dest_id=900040280&dest_type=city&checkin_year=2021&checkin_month=12&checkin_monthday=20&checkout_year=2021&checkout_month=12&checkout_monthday=21&group_adults=2&group_children=0&no_rooms=1&b_h4u_keep_filters=&rom_sf=0&offset=200\n",
      "https://www.booking.com/searchresults.html?aid=397594&label=gog235jc-1FCAEoggI46AdIM1gDaMQBiAEBmAEBuAEHyAEN2AEB6AEB-AEMiAIBqAIDuAKrp4WNBsACAdICJDViMjFmN2I1LWRiYzYtNDBjMC1iZDAzLTBiM2VjMWM3NDU0YtgCBuACAQ&sid=b63ed7ee092f6d6ca0bb0284fa6824a3&sb=1&sb_lp=1&src=index&src_elem=sb&error_url=https%3A%2F%2Fwww.booking.com%2Findex.html%3Faid%3D397594%3Blabel%3Dgog235jc-1FCAEoggI46AdIM1gDaMQBiAEBmAEBuAEHyAEN2AEB6AEB-AEMiAIBqAIDuAKrp4WNBsACAdICJDViMjFmN2I1LWRiYzYtNDBjMC1iZDAzLTBiM2VjMWM3NDU0YtgCBuACAQ%3Bsid%3Db63ed7ee092f6d6ca0bb0284fa6824a3%3Bsb_price_type%3Dtotal%26%3B&ss=Riyadh&is_ski_area=0&ssne=Riyadh&ssne_untouched=Riyadh&dest_id=900040280&dest_type=city&checkin_year=2021&checkin_month=12&checkin_monthday=20&checkout_year=2021&checkout_month=12&checkout_monthday=21&group_adults=2&group_children=0&no_rooms=1&b_h4u_keep_filters=&rom_sf=0&offset=225\n"
     ]
    },
    {
     "name": "stdout",
     "output_type": "stream",
     "text": [
      "https://www.booking.com/searchresults.html?aid=397594&label=gog235jc-1FCAEoggI46AdIM1gDaMQBiAEBmAEBuAEHyAEN2AEB6AEB-AEMiAIBqAIDuAKrp4WNBsACAdICJDViMjFmN2I1LWRiYzYtNDBjMC1iZDAzLTBiM2VjMWM3NDU0YtgCBuACAQ&sid=b63ed7ee092f6d6ca0bb0284fa6824a3&sb=1&sb_lp=1&src=index&src_elem=sb&error_url=https%3A%2F%2Fwww.booking.com%2Findex.html%3Faid%3D397594%3Blabel%3Dgog235jc-1FCAEoggI46AdIM1gDaMQBiAEBmAEBuAEHyAEN2AEB6AEB-AEMiAIBqAIDuAKrp4WNBsACAdICJDViMjFmN2I1LWRiYzYtNDBjMC1iZDAzLTBiM2VjMWM3NDU0YtgCBuACAQ%3Bsid%3Db63ed7ee092f6d6ca0bb0284fa6824a3%3Bsb_price_type%3Dtotal%26%3B&ss=Riyadh&is_ski_area=0&ssne=Riyadh&ssne_untouched=Riyadh&dest_id=900040280&dest_type=city&checkin_year=2021&checkin_month=12&checkin_monthday=20&checkout_year=2021&checkout_month=12&checkout_monthday=21&group_adults=2&group_children=0&no_rooms=1&b_h4u_keep_filters=&rom_sf=0&offset=250\n",
      "https://www.booking.com/searchresults.html?aid=397594&label=gog235jc-1FCAEoggI46AdIM1gDaMQBiAEBmAEBuAEHyAEN2AEB6AEB-AEMiAIBqAIDuAKrp4WNBsACAdICJDViMjFmN2I1LWRiYzYtNDBjMC1iZDAzLTBiM2VjMWM3NDU0YtgCBuACAQ&sid=b63ed7ee092f6d6ca0bb0284fa6824a3&sb=1&sb_lp=1&src=index&src_elem=sb&error_url=https%3A%2F%2Fwww.booking.com%2Findex.html%3Faid%3D397594%3Blabel%3Dgog235jc-1FCAEoggI46AdIM1gDaMQBiAEBmAEBuAEHyAEN2AEB6AEB-AEMiAIBqAIDuAKrp4WNBsACAdICJDViMjFmN2I1LWRiYzYtNDBjMC1iZDAzLTBiM2VjMWM3NDU0YtgCBuACAQ%3Bsid%3Db63ed7ee092f6d6ca0bb0284fa6824a3%3Bsb_price_type%3Dtotal%26%3B&ss=Riyadh&is_ski_area=0&ssne=Riyadh&ssne_untouched=Riyadh&dest_id=900040280&dest_type=city&checkin_year=2021&checkin_month=12&checkin_monthday=20&checkout_year=2021&checkout_month=12&checkout_monthday=21&group_adults=2&group_children=0&no_rooms=1&b_h4u_keep_filters=&rom_sf=0&offset=275\n",
      "https://www.booking.com/searchresults.html?aid=397594&label=gog235jc-1FCAEoggI46AdIM1gDaMQBiAEBmAEBuAEHyAEN2AEB6AEB-AEMiAIBqAIDuAKrp4WNBsACAdICJDViMjFmN2I1LWRiYzYtNDBjMC1iZDAzLTBiM2VjMWM3NDU0YtgCBuACAQ&sid=b63ed7ee092f6d6ca0bb0284fa6824a3&sb=1&sb_lp=1&src=index&src_elem=sb&error_url=https%3A%2F%2Fwww.booking.com%2Findex.html%3Faid%3D397594%3Blabel%3Dgog235jc-1FCAEoggI46AdIM1gDaMQBiAEBmAEBuAEHyAEN2AEB6AEB-AEMiAIBqAIDuAKrp4WNBsACAdICJDViMjFmN2I1LWRiYzYtNDBjMC1iZDAzLTBiM2VjMWM3NDU0YtgCBuACAQ%3Bsid%3Db63ed7ee092f6d6ca0bb0284fa6824a3%3Bsb_price_type%3Dtotal%26%3B&ss=Riyadh&is_ski_area=0&ssne=Riyadh&ssne_untouched=Riyadh&dest_id=900040280&dest_type=city&checkin_year=2021&checkin_month=12&checkin_monthday=20&checkout_year=2021&checkout_month=12&checkout_monthday=21&group_adults=2&group_children=0&no_rooms=1&b_h4u_keep_filters=&rom_sf=0&offset=300\n",
      "https://www.booking.com/searchresults.html?aid=397594&label=gog235jc-1FCAEoggI46AdIM1gDaMQBiAEBmAEBuAEHyAEN2AEB6AEB-AEMiAIBqAIDuAKrp4WNBsACAdICJDViMjFmN2I1LWRiYzYtNDBjMC1iZDAzLTBiM2VjMWM3NDU0YtgCBuACAQ&sid=b63ed7ee092f6d6ca0bb0284fa6824a3&sb=1&sb_lp=1&src=index&src_elem=sb&error_url=https%3A%2F%2Fwww.booking.com%2Findex.html%3Faid%3D397594%3Blabel%3Dgog235jc-1FCAEoggI46AdIM1gDaMQBiAEBmAEBuAEHyAEN2AEB6AEB-AEMiAIBqAIDuAKrp4WNBsACAdICJDViMjFmN2I1LWRiYzYtNDBjMC1iZDAzLTBiM2VjMWM3NDU0YtgCBuACAQ%3Bsid%3Db63ed7ee092f6d6ca0bb0284fa6824a3%3Bsb_price_type%3Dtotal%26%3B&ss=Riyadh&is_ski_area=0&ssne=Riyadh&ssne_untouched=Riyadh&dest_id=900040280&dest_type=city&checkin_year=2021&checkin_month=12&checkin_monthday=20&checkout_year=2021&checkout_month=12&checkout_monthday=21&group_adults=2&group_children=0&no_rooms=1&b_h4u_keep_filters=&rom_sf=0&offset=325\n",
      "https://www.booking.com/searchresults.html?aid=397594&label=gog235jc-1FCAEoggI46AdIM1gDaMQBiAEBmAEBuAEHyAEN2AEB6AEB-AEMiAIBqAIDuAKrp4WNBsACAdICJDViMjFmN2I1LWRiYzYtNDBjMC1iZDAzLTBiM2VjMWM3NDU0YtgCBuACAQ&sid=b63ed7ee092f6d6ca0bb0284fa6824a3&sb=1&sb_lp=1&src=index&src_elem=sb&error_url=https%3A%2F%2Fwww.booking.com%2Findex.html%3Faid%3D397594%3Blabel%3Dgog235jc-1FCAEoggI46AdIM1gDaMQBiAEBmAEBuAEHyAEN2AEB6AEB-AEMiAIBqAIDuAKrp4WNBsACAdICJDViMjFmN2I1LWRiYzYtNDBjMC1iZDAzLTBiM2VjMWM3NDU0YtgCBuACAQ%3Bsid%3Db63ed7ee092f6d6ca0bb0284fa6824a3%3Bsb_price_type%3Dtotal%26%3B&ss=Riyadh&is_ski_area=0&ssne=Riyadh&ssne_untouched=Riyadh&dest_id=900040280&dest_type=city&checkin_year=2021&checkin_month=12&checkin_monthday=20&checkout_year=2021&checkout_month=12&checkout_monthday=21&group_adults=2&group_children=0&no_rooms=1&b_h4u_keep_filters=&rom_sf=0&offset=350\n",
      "https://www.booking.com/searchresults.html?aid=397594&label=gog235jc-1FCAEoggI46AdIM1gDaMQBiAEBmAEBuAEHyAEN2AEB6AEB-AEMiAIBqAIDuAKrp4WNBsACAdICJDViMjFmN2I1LWRiYzYtNDBjMC1iZDAzLTBiM2VjMWM3NDU0YtgCBuACAQ&sid=b63ed7ee092f6d6ca0bb0284fa6824a3&sb=1&sb_lp=1&src=index&src_elem=sb&error_url=https%3A%2F%2Fwww.booking.com%2Findex.html%3Faid%3D397594%3Blabel%3Dgog235jc-1FCAEoggI46AdIM1gDaMQBiAEBmAEBuAEHyAEN2AEB6AEB-AEMiAIBqAIDuAKrp4WNBsACAdICJDViMjFmN2I1LWRiYzYtNDBjMC1iZDAzLTBiM2VjMWM3NDU0YtgCBuACAQ%3Bsid%3Db63ed7ee092f6d6ca0bb0284fa6824a3%3Bsb_price_type%3Dtotal%26%3B&ss=Riyadh&is_ski_area=0&ssne=Riyadh&ssne_untouched=Riyadh&dest_id=900040280&dest_type=city&checkin_year=2021&checkin_month=12&checkin_monthday=20&checkout_year=2021&checkout_month=12&checkout_monthday=21&group_adults=2&group_children=0&no_rooms=1&b_h4u_keep_filters=&rom_sf=0&offset=375\n",
      "https://www.booking.com/searchresults.html?aid=397594&label=gog235jc-1FCAEoggI46AdIM1gDaMQBiAEBmAEBuAEHyAEN2AEB6AEB-AEMiAIBqAIDuAKrp4WNBsACAdICJDViMjFmN2I1LWRiYzYtNDBjMC1iZDAzLTBiM2VjMWM3NDU0YtgCBuACAQ&sid=b63ed7ee092f6d6ca0bb0284fa6824a3&sb=1&sb_lp=1&src=index&src_elem=sb&error_url=https%3A%2F%2Fwww.booking.com%2Findex.html%3Faid%3D397594%3Blabel%3Dgog235jc-1FCAEoggI46AdIM1gDaMQBiAEBmAEBuAEHyAEN2AEB6AEB-AEMiAIBqAIDuAKrp4WNBsACAdICJDViMjFmN2I1LWRiYzYtNDBjMC1iZDAzLTBiM2VjMWM3NDU0YtgCBuACAQ%3Bsid%3Db63ed7ee092f6d6ca0bb0284fa6824a3%3Bsb_price_type%3Dtotal%26%3B&ss=Riyadh&is_ski_area=0&ssne=Riyadh&ssne_untouched=Riyadh&dest_id=900040280&dest_type=city&checkin_year=2021&checkin_month=12&checkin_monthday=20&checkout_year=2021&checkout_month=12&checkout_monthday=21&group_adults=2&group_children=0&no_rooms=1&b_h4u_keep_filters=&rom_sf=0&offset=400\n",
      "https://www.booking.com/searchresults.html?aid=397594&label=gog235jc-1FCAEoggI46AdIM1gDaMQBiAEBmAEBuAEHyAEN2AEB6AEB-AEMiAIBqAIDuAKrp4WNBsACAdICJDViMjFmN2I1LWRiYzYtNDBjMC1iZDAzLTBiM2VjMWM3NDU0YtgCBuACAQ&sid=b63ed7ee092f6d6ca0bb0284fa6824a3&sb=1&sb_lp=1&src=index&src_elem=sb&error_url=https%3A%2F%2Fwww.booking.com%2Findex.html%3Faid%3D397594%3Blabel%3Dgog235jc-1FCAEoggI46AdIM1gDaMQBiAEBmAEBuAEHyAEN2AEB6AEB-AEMiAIBqAIDuAKrp4WNBsACAdICJDViMjFmN2I1LWRiYzYtNDBjMC1iZDAzLTBiM2VjMWM3NDU0YtgCBuACAQ%3Bsid%3Db63ed7ee092f6d6ca0bb0284fa6824a3%3Bsb_price_type%3Dtotal%26%3B&ss=Riyadh&is_ski_area=0&ssne=Riyadh&ssne_untouched=Riyadh&dest_id=900040280&dest_type=city&checkin_year=2021&checkin_month=12&checkin_monthday=20&checkout_year=2021&checkout_month=12&checkout_monthday=21&group_adults=2&group_children=0&no_rooms=1&b_h4u_keep_filters=&rom_sf=0&offset=425\n"
     ]
    }
   ],
   "source": [
    "records = get_data_info()\n"
   ]
  },
  {
   "cell_type": "code",
   "execution_count": 361,
   "id": "22398742",
   "metadata": {},
   "outputs": [],
   "source": [
    "# paring with value\n",
    "file_list = [records]\n",
    "exported = zip_longest(*file_list)\n",
    "with open(\"/Users/shahadfahad/Desktop/p/link.csv\", \"w\") as link_file:\n",
    "    wr = csv.writer(link_file)\n",
    "    wr.writerow([\"Links\"])\n",
    "    wr.writerows(exported)"
   ]
  },
  {
   "cell_type": "code",
   "execution_count": 352,
   "id": "86a3dfa0",
   "metadata": {},
   "outputs": [],
   "source": []
  },
  {
   "cell_type": "code",
   "execution_count": 363,
   "id": "bc7f5e60",
   "metadata": {},
   "outputs": [
    {
     "data": {
      "text/html": [
       "<div>\n",
       "<style scoped>\n",
       "    .dataframe tbody tr th:only-of-type {\n",
       "        vertical-align: middle;\n",
       "    }\n",
       "\n",
       "    .dataframe tbody tr th {\n",
       "        vertical-align: top;\n",
       "    }\n",
       "\n",
       "    .dataframe thead th {\n",
       "        text-align: right;\n",
       "    }\n",
       "</style>\n",
       "<table border=\"1\" class=\"dataframe\">\n",
       "  <thead>\n",
       "    <tr style=\"text-align: right;\">\n",
       "      <th></th>\n",
       "      <th>Links</th>\n",
       "    </tr>\n",
       "  </thead>\n",
       "  <tbody>\n",
       "    <tr>\n",
       "      <th>0</th>\n",
       "      <td>https://www.booking.com/searchresults.html?aid...</td>\n",
       "    </tr>\n",
       "    <tr>\n",
       "      <th>1</th>\n",
       "      <td>https://www.booking.com/searchresults.html?aid...</td>\n",
       "    </tr>\n",
       "    <tr>\n",
       "      <th>2</th>\n",
       "      <td>https://www.booking.com/searchresults.html?aid...</td>\n",
       "    </tr>\n",
       "    <tr>\n",
       "      <th>3</th>\n",
       "      <td>https://www.booking.com/searchresults.html?aid...</td>\n",
       "    </tr>\n",
       "    <tr>\n",
       "      <th>4</th>\n",
       "      <td>https://www.booking.com/searchresults.html?aid...</td>\n",
       "    </tr>\n",
       "  </tbody>\n",
       "</table>\n",
       "</div>"
      ],
      "text/plain": [
       "                                               Links\n",
       "0  https://www.booking.com/searchresults.html?aid...\n",
       "1  https://www.booking.com/searchresults.html?aid...\n",
       "2  https://www.booking.com/searchresults.html?aid...\n",
       "3  https://www.booking.com/searchresults.html?aid...\n",
       "4  https://www.booking.com/searchresults.html?aid..."
      ]
     },
     "execution_count": 363,
     "metadata": {},
     "output_type": "execute_result"
    }
   ],
   "source": [
    "# making dataframe \n",
    "df = pd.read_csv(\"/Users/shahadfahad/Desktop/p/link.csv\") \n",
    "   \n",
    "# output the dataframe\n",
    "df.head()"
   ]
  },
  {
   "cell_type": "code",
   "execution_count": 364,
   "id": "d779783c",
   "metadata": {},
   "outputs": [
    {
     "name": "stdout",
     "output_type": "stream",
     "text": [
      "https://www.booking.com/searchresults.html?aid=397594&label=gog235jc-1FCAEoggI46AdIM1gDaMQBiAEBmAEBuAEHyAEN2AEB6AEB-AEMiAIBqAIDuAKrp4WNBsACAdICJDViMjFmN2I1LWRiYzYtNDBjMC1iZDAzLTBiM2VjMWM3NDU0YtgCBuACAQ&sid=b63ed7ee092f6d6ca0bb0284fa6824a3&sb=1&sb_lp=1&src=index&src_elem=sb&error_url=https%3A%2F%2Fwww.booking.com%2Findex.html%3Faid%3D397594%3Blabel%3Dgog235jc-1FCAEoggI46AdIM1gDaMQBiAEBmAEBuAEHyAEN2AEB6AEB-AEMiAIBqAIDuAKrp4WNBsACAdICJDViMjFmN2I1LWRiYzYtNDBjMC1iZDAzLTBiM2VjMWM3NDU0YtgCBuACAQ%3Bsid%3Db63ed7ee092f6d6ca0bb0284fa6824a3%3Bsb_price_type%3Dtotal%26%3B&ss=Riyadh&is_ski_area=0&ssne=Riyadh&ssne_untouched=Riyadh&dest_id=900040280&dest_type=city&checkin_year=2021&checkin_month=12&checkin_monthday=20&checkout_year=2021&checkout_month=12&checkout_monthday=21&group_adults=2&group_children=0&no_rooms=1&b_h4u_keep_filters=&rom_sf=0&offset=0\n",
      "https://www.booking.com/searchresults.html?aid=397594&label=gog235jc-1FCAEoggI46AdIM1gDaMQBiAEBmAEBuAEHyAEN2AEB6AEB-AEMiAIBqAIDuAKrp4WNBsACAdICJDViMjFmN2I1LWRiYzYtNDBjMC1iZDAzLTBiM2VjMWM3NDU0YtgCBuACAQ&sid=b63ed7ee092f6d6ca0bb0284fa6824a3&sb=1&sb_lp=1&src=index&src_elem=sb&error_url=https%3A%2F%2Fwww.booking.com%2Findex.html%3Faid%3D397594%3Blabel%3Dgog235jc-1FCAEoggI46AdIM1gDaMQBiAEBmAEBuAEHyAEN2AEB6AEB-AEMiAIBqAIDuAKrp4WNBsACAdICJDViMjFmN2I1LWRiYzYtNDBjMC1iZDAzLTBiM2VjMWM3NDU0YtgCBuACAQ%3Bsid%3Db63ed7ee092f6d6ca0bb0284fa6824a3%3Bsb_price_type%3Dtotal%26%3B&ss=Riyadh&is_ski_area=0&ssne=Riyadh&ssne_untouched=Riyadh&dest_id=900040280&dest_type=city&checkin_year=2021&checkin_month=12&checkin_monthday=20&checkout_year=2021&checkout_month=12&checkout_monthday=21&group_adults=2&group_children=0&no_rooms=1&b_h4u_keep_filters=&rom_sf=0&offset=25\n",
      "https://www.booking.com/searchresults.html?aid=397594&label=gog235jc-1FCAEoggI46AdIM1gDaMQBiAEBmAEBuAEHyAEN2AEB6AEB-AEMiAIBqAIDuAKrp4WNBsACAdICJDViMjFmN2I1LWRiYzYtNDBjMC1iZDAzLTBiM2VjMWM3NDU0YtgCBuACAQ&sid=b63ed7ee092f6d6ca0bb0284fa6824a3&sb=1&sb_lp=1&src=index&src_elem=sb&error_url=https%3A%2F%2Fwww.booking.com%2Findex.html%3Faid%3D397594%3Blabel%3Dgog235jc-1FCAEoggI46AdIM1gDaMQBiAEBmAEBuAEHyAEN2AEB6AEB-AEMiAIBqAIDuAKrp4WNBsACAdICJDViMjFmN2I1LWRiYzYtNDBjMC1iZDAzLTBiM2VjMWM3NDU0YtgCBuACAQ%3Bsid%3Db63ed7ee092f6d6ca0bb0284fa6824a3%3Bsb_price_type%3Dtotal%26%3B&ss=Riyadh&is_ski_area=0&ssne=Riyadh&ssne_untouched=Riyadh&dest_id=900040280&dest_type=city&checkin_year=2021&checkin_month=12&checkin_monthday=20&checkout_year=2021&checkout_month=12&checkout_monthday=21&group_adults=2&group_children=0&no_rooms=1&b_h4u_keep_filters=&rom_sf=0&offset=50\n",
      "https://www.booking.com/searchresults.html?aid=397594&label=gog235jc-1FCAEoggI46AdIM1gDaMQBiAEBmAEBuAEHyAEN2AEB6AEB-AEMiAIBqAIDuAKrp4WNBsACAdICJDViMjFmN2I1LWRiYzYtNDBjMC1iZDAzLTBiM2VjMWM3NDU0YtgCBuACAQ&sid=b63ed7ee092f6d6ca0bb0284fa6824a3&sb=1&sb_lp=1&src=index&src_elem=sb&error_url=https%3A%2F%2Fwww.booking.com%2Findex.html%3Faid%3D397594%3Blabel%3Dgog235jc-1FCAEoggI46AdIM1gDaMQBiAEBmAEBuAEHyAEN2AEB6AEB-AEMiAIBqAIDuAKrp4WNBsACAdICJDViMjFmN2I1LWRiYzYtNDBjMC1iZDAzLTBiM2VjMWM3NDU0YtgCBuACAQ%3Bsid%3Db63ed7ee092f6d6ca0bb0284fa6824a3%3Bsb_price_type%3Dtotal%26%3B&ss=Riyadh&is_ski_area=0&ssne=Riyadh&ssne_untouched=Riyadh&dest_id=900040280&dest_type=city&checkin_year=2021&checkin_month=12&checkin_monthday=20&checkout_year=2021&checkout_month=12&checkout_monthday=21&group_adults=2&group_children=0&no_rooms=1&b_h4u_keep_filters=&rom_sf=0&offset=75\n",
      "https://www.booking.com/searchresults.html?aid=397594&label=gog235jc-1FCAEoggI46AdIM1gDaMQBiAEBmAEBuAEHyAEN2AEB6AEB-AEMiAIBqAIDuAKrp4WNBsACAdICJDViMjFmN2I1LWRiYzYtNDBjMC1iZDAzLTBiM2VjMWM3NDU0YtgCBuACAQ&sid=b63ed7ee092f6d6ca0bb0284fa6824a3&sb=1&sb_lp=1&src=index&src_elem=sb&error_url=https%3A%2F%2Fwww.booking.com%2Findex.html%3Faid%3D397594%3Blabel%3Dgog235jc-1FCAEoggI46AdIM1gDaMQBiAEBmAEBuAEHyAEN2AEB6AEB-AEMiAIBqAIDuAKrp4WNBsACAdICJDViMjFmN2I1LWRiYzYtNDBjMC1iZDAzLTBiM2VjMWM3NDU0YtgCBuACAQ%3Bsid%3Db63ed7ee092f6d6ca0bb0284fa6824a3%3Bsb_price_type%3Dtotal%26%3B&ss=Riyadh&is_ski_area=0&ssne=Riyadh&ssne_untouched=Riyadh&dest_id=900040280&dest_type=city&checkin_year=2021&checkin_month=12&checkin_monthday=20&checkout_year=2021&checkout_month=12&checkout_monthday=21&group_adults=2&group_children=0&no_rooms=1&b_h4u_keep_filters=&rom_sf=0&offset=100\n",
      "https://www.booking.com/searchresults.html?aid=397594&label=gog235jc-1FCAEoggI46AdIM1gDaMQBiAEBmAEBuAEHyAEN2AEB6AEB-AEMiAIBqAIDuAKrp4WNBsACAdICJDViMjFmN2I1LWRiYzYtNDBjMC1iZDAzLTBiM2VjMWM3NDU0YtgCBuACAQ&sid=b63ed7ee092f6d6ca0bb0284fa6824a3&sb=1&sb_lp=1&src=index&src_elem=sb&error_url=https%3A%2F%2Fwww.booking.com%2Findex.html%3Faid%3D397594%3Blabel%3Dgog235jc-1FCAEoggI46AdIM1gDaMQBiAEBmAEBuAEHyAEN2AEB6AEB-AEMiAIBqAIDuAKrp4WNBsACAdICJDViMjFmN2I1LWRiYzYtNDBjMC1iZDAzLTBiM2VjMWM3NDU0YtgCBuACAQ%3Bsid%3Db63ed7ee092f6d6ca0bb0284fa6824a3%3Bsb_price_type%3Dtotal%26%3B&ss=Riyadh&is_ski_area=0&ssne=Riyadh&ssne_untouched=Riyadh&dest_id=900040280&dest_type=city&checkin_year=2021&checkin_month=12&checkin_monthday=20&checkout_year=2021&checkout_month=12&checkout_monthday=21&group_adults=2&group_children=0&no_rooms=1&b_h4u_keep_filters=&rom_sf=0&offset=125\n",
      "https://www.booking.com/searchresults.html?aid=397594&label=gog235jc-1FCAEoggI46AdIM1gDaMQBiAEBmAEBuAEHyAEN2AEB6AEB-AEMiAIBqAIDuAKrp4WNBsACAdICJDViMjFmN2I1LWRiYzYtNDBjMC1iZDAzLTBiM2VjMWM3NDU0YtgCBuACAQ&sid=b63ed7ee092f6d6ca0bb0284fa6824a3&sb=1&sb_lp=1&src=index&src_elem=sb&error_url=https%3A%2F%2Fwww.booking.com%2Findex.html%3Faid%3D397594%3Blabel%3Dgog235jc-1FCAEoggI46AdIM1gDaMQBiAEBmAEBuAEHyAEN2AEB6AEB-AEMiAIBqAIDuAKrp4WNBsACAdICJDViMjFmN2I1LWRiYzYtNDBjMC1iZDAzLTBiM2VjMWM3NDU0YtgCBuACAQ%3Bsid%3Db63ed7ee092f6d6ca0bb0284fa6824a3%3Bsb_price_type%3Dtotal%26%3B&ss=Riyadh&is_ski_area=0&ssne=Riyadh&ssne_untouched=Riyadh&dest_id=900040280&dest_type=city&checkin_year=2021&checkin_month=12&checkin_monthday=20&checkout_year=2021&checkout_month=12&checkout_monthday=21&group_adults=2&group_children=0&no_rooms=1&b_h4u_keep_filters=&rom_sf=0&offset=150\n",
      "https://www.booking.com/searchresults.html?aid=397594&label=gog235jc-1FCAEoggI46AdIM1gDaMQBiAEBmAEBuAEHyAEN2AEB6AEB-AEMiAIBqAIDuAKrp4WNBsACAdICJDViMjFmN2I1LWRiYzYtNDBjMC1iZDAzLTBiM2VjMWM3NDU0YtgCBuACAQ&sid=b63ed7ee092f6d6ca0bb0284fa6824a3&sb=1&sb_lp=1&src=index&src_elem=sb&error_url=https%3A%2F%2Fwww.booking.com%2Findex.html%3Faid%3D397594%3Blabel%3Dgog235jc-1FCAEoggI46AdIM1gDaMQBiAEBmAEBuAEHyAEN2AEB6AEB-AEMiAIBqAIDuAKrp4WNBsACAdICJDViMjFmN2I1LWRiYzYtNDBjMC1iZDAzLTBiM2VjMWM3NDU0YtgCBuACAQ%3Bsid%3Db63ed7ee092f6d6ca0bb0284fa6824a3%3Bsb_price_type%3Dtotal%26%3B&ss=Riyadh&is_ski_area=0&ssne=Riyadh&ssne_untouched=Riyadh&dest_id=900040280&dest_type=city&checkin_year=2021&checkin_month=12&checkin_monthday=20&checkout_year=2021&checkout_month=12&checkout_monthday=21&group_adults=2&group_children=0&no_rooms=1&b_h4u_keep_filters=&rom_sf=0&offset=175\n",
      "https://www.booking.com/searchresults.html?aid=397594&label=gog235jc-1FCAEoggI46AdIM1gDaMQBiAEBmAEBuAEHyAEN2AEB6AEB-AEMiAIBqAIDuAKrp4WNBsACAdICJDViMjFmN2I1LWRiYzYtNDBjMC1iZDAzLTBiM2VjMWM3NDU0YtgCBuACAQ&sid=b63ed7ee092f6d6ca0bb0284fa6824a3&sb=1&sb_lp=1&src=index&src_elem=sb&error_url=https%3A%2F%2Fwww.booking.com%2Findex.html%3Faid%3D397594%3Blabel%3Dgog235jc-1FCAEoggI46AdIM1gDaMQBiAEBmAEBuAEHyAEN2AEB6AEB-AEMiAIBqAIDuAKrp4WNBsACAdICJDViMjFmN2I1LWRiYzYtNDBjMC1iZDAzLTBiM2VjMWM3NDU0YtgCBuACAQ%3Bsid%3Db63ed7ee092f6d6ca0bb0284fa6824a3%3Bsb_price_type%3Dtotal%26%3B&ss=Riyadh&is_ski_area=0&ssne=Riyadh&ssne_untouched=Riyadh&dest_id=900040280&dest_type=city&checkin_year=2021&checkin_month=12&checkin_monthday=20&checkout_year=2021&checkout_month=12&checkout_monthday=21&group_adults=2&group_children=0&no_rooms=1&b_h4u_keep_filters=&rom_sf=0&offset=200\n",
      "https://www.booking.com/searchresults.html?aid=397594&label=gog235jc-1FCAEoggI46AdIM1gDaMQBiAEBmAEBuAEHyAEN2AEB6AEB-AEMiAIBqAIDuAKrp4WNBsACAdICJDViMjFmN2I1LWRiYzYtNDBjMC1iZDAzLTBiM2VjMWM3NDU0YtgCBuACAQ&sid=b63ed7ee092f6d6ca0bb0284fa6824a3&sb=1&sb_lp=1&src=index&src_elem=sb&error_url=https%3A%2F%2Fwww.booking.com%2Findex.html%3Faid%3D397594%3Blabel%3Dgog235jc-1FCAEoggI46AdIM1gDaMQBiAEBmAEBuAEHyAEN2AEB6AEB-AEMiAIBqAIDuAKrp4WNBsACAdICJDViMjFmN2I1LWRiYzYtNDBjMC1iZDAzLTBiM2VjMWM3NDU0YtgCBuACAQ%3Bsid%3Db63ed7ee092f6d6ca0bb0284fa6824a3%3Bsb_price_type%3Dtotal%26%3B&ss=Riyadh&is_ski_area=0&ssne=Riyadh&ssne_untouched=Riyadh&dest_id=900040280&dest_type=city&checkin_year=2021&checkin_month=12&checkin_monthday=20&checkout_year=2021&checkout_month=12&checkout_monthday=21&group_adults=2&group_children=0&no_rooms=1&b_h4u_keep_filters=&rom_sf=0&offset=225\n",
      "https://www.booking.com/searchresults.html?aid=397594&label=gog235jc-1FCAEoggI46AdIM1gDaMQBiAEBmAEBuAEHyAEN2AEB6AEB-AEMiAIBqAIDuAKrp4WNBsACAdICJDViMjFmN2I1LWRiYzYtNDBjMC1iZDAzLTBiM2VjMWM3NDU0YtgCBuACAQ&sid=b63ed7ee092f6d6ca0bb0284fa6824a3&sb=1&sb_lp=1&src=index&src_elem=sb&error_url=https%3A%2F%2Fwww.booking.com%2Findex.html%3Faid%3D397594%3Blabel%3Dgog235jc-1FCAEoggI46AdIM1gDaMQBiAEBmAEBuAEHyAEN2AEB6AEB-AEMiAIBqAIDuAKrp4WNBsACAdICJDViMjFmN2I1LWRiYzYtNDBjMC1iZDAzLTBiM2VjMWM3NDU0YtgCBuACAQ%3Bsid%3Db63ed7ee092f6d6ca0bb0284fa6824a3%3Bsb_price_type%3Dtotal%26%3B&ss=Riyadh&is_ski_area=0&ssne=Riyadh&ssne_untouched=Riyadh&dest_id=900040280&dest_type=city&checkin_year=2021&checkin_month=12&checkin_monthday=20&checkout_year=2021&checkout_month=12&checkout_monthday=21&group_adults=2&group_children=0&no_rooms=1&b_h4u_keep_filters=&rom_sf=0&offset=250\n",
      "https://www.booking.com/searchresults.html?aid=397594&label=gog235jc-1FCAEoggI46AdIM1gDaMQBiAEBmAEBuAEHyAEN2AEB6AEB-AEMiAIBqAIDuAKrp4WNBsACAdICJDViMjFmN2I1LWRiYzYtNDBjMC1iZDAzLTBiM2VjMWM3NDU0YtgCBuACAQ&sid=b63ed7ee092f6d6ca0bb0284fa6824a3&sb=1&sb_lp=1&src=index&src_elem=sb&error_url=https%3A%2F%2Fwww.booking.com%2Findex.html%3Faid%3D397594%3Blabel%3Dgog235jc-1FCAEoggI46AdIM1gDaMQBiAEBmAEBuAEHyAEN2AEB6AEB-AEMiAIBqAIDuAKrp4WNBsACAdICJDViMjFmN2I1LWRiYzYtNDBjMC1iZDAzLTBiM2VjMWM3NDU0YtgCBuACAQ%3Bsid%3Db63ed7ee092f6d6ca0bb0284fa6824a3%3Bsb_price_type%3Dtotal%26%3B&ss=Riyadh&is_ski_area=0&ssne=Riyadh&ssne_untouched=Riyadh&dest_id=900040280&dest_type=city&checkin_year=2021&checkin_month=12&checkin_monthday=20&checkout_year=2021&checkout_month=12&checkout_monthday=21&group_adults=2&group_children=0&no_rooms=1&b_h4u_keep_filters=&rom_sf=0&offset=275\n",
      "https://www.booking.com/searchresults.html?aid=397594&label=gog235jc-1FCAEoggI46AdIM1gDaMQBiAEBmAEBuAEHyAEN2AEB6AEB-AEMiAIBqAIDuAKrp4WNBsACAdICJDViMjFmN2I1LWRiYzYtNDBjMC1iZDAzLTBiM2VjMWM3NDU0YtgCBuACAQ&sid=b63ed7ee092f6d6ca0bb0284fa6824a3&sb=1&sb_lp=1&src=index&src_elem=sb&error_url=https%3A%2F%2Fwww.booking.com%2Findex.html%3Faid%3D397594%3Blabel%3Dgog235jc-1FCAEoggI46AdIM1gDaMQBiAEBmAEBuAEHyAEN2AEB6AEB-AEMiAIBqAIDuAKrp4WNBsACAdICJDViMjFmN2I1LWRiYzYtNDBjMC1iZDAzLTBiM2VjMWM3NDU0YtgCBuACAQ%3Bsid%3Db63ed7ee092f6d6ca0bb0284fa6824a3%3Bsb_price_type%3Dtotal%26%3B&ss=Riyadh&is_ski_area=0&ssne=Riyadh&ssne_untouched=Riyadh&dest_id=900040280&dest_type=city&checkin_year=2021&checkin_month=12&checkin_monthday=20&checkout_year=2021&checkout_month=12&checkout_monthday=21&group_adults=2&group_children=0&no_rooms=1&b_h4u_keep_filters=&rom_sf=0&offset=300\n",
      "https://www.booking.com/searchresults.html?aid=397594&label=gog235jc-1FCAEoggI46AdIM1gDaMQBiAEBmAEBuAEHyAEN2AEB6AEB-AEMiAIBqAIDuAKrp4WNBsACAdICJDViMjFmN2I1LWRiYzYtNDBjMC1iZDAzLTBiM2VjMWM3NDU0YtgCBuACAQ&sid=b63ed7ee092f6d6ca0bb0284fa6824a3&sb=1&sb_lp=1&src=index&src_elem=sb&error_url=https%3A%2F%2Fwww.booking.com%2Findex.html%3Faid%3D397594%3Blabel%3Dgog235jc-1FCAEoggI46AdIM1gDaMQBiAEBmAEBuAEHyAEN2AEB6AEB-AEMiAIBqAIDuAKrp4WNBsACAdICJDViMjFmN2I1LWRiYzYtNDBjMC1iZDAzLTBiM2VjMWM3NDU0YtgCBuACAQ%3Bsid%3Db63ed7ee092f6d6ca0bb0284fa6824a3%3Bsb_price_type%3Dtotal%26%3B&ss=Riyadh&is_ski_area=0&ssne=Riyadh&ssne_untouched=Riyadh&dest_id=900040280&dest_type=city&checkin_year=2021&checkin_month=12&checkin_monthday=20&checkout_year=2021&checkout_month=12&checkout_monthday=21&group_adults=2&group_children=0&no_rooms=1&b_h4u_keep_filters=&rom_sf=0&offset=325\n",
      "https://www.booking.com/searchresults.html?aid=397594&label=gog235jc-1FCAEoggI46AdIM1gDaMQBiAEBmAEBuAEHyAEN2AEB6AEB-AEMiAIBqAIDuAKrp4WNBsACAdICJDViMjFmN2I1LWRiYzYtNDBjMC1iZDAzLTBiM2VjMWM3NDU0YtgCBuACAQ&sid=b63ed7ee092f6d6ca0bb0284fa6824a3&sb=1&sb_lp=1&src=index&src_elem=sb&error_url=https%3A%2F%2Fwww.booking.com%2Findex.html%3Faid%3D397594%3Blabel%3Dgog235jc-1FCAEoggI46AdIM1gDaMQBiAEBmAEBuAEHyAEN2AEB6AEB-AEMiAIBqAIDuAKrp4WNBsACAdICJDViMjFmN2I1LWRiYzYtNDBjMC1iZDAzLTBiM2VjMWM3NDU0YtgCBuACAQ%3Bsid%3Db63ed7ee092f6d6ca0bb0284fa6824a3%3Bsb_price_type%3Dtotal%26%3B&ss=Riyadh&is_ski_area=0&ssne=Riyadh&ssne_untouched=Riyadh&dest_id=900040280&dest_type=city&checkin_year=2021&checkin_month=12&checkin_monthday=20&checkout_year=2021&checkout_month=12&checkout_monthday=21&group_adults=2&group_children=0&no_rooms=1&b_h4u_keep_filters=&rom_sf=0&offset=350\n",
      "https://www.booking.com/searchresults.html?aid=397594&label=gog235jc-1FCAEoggI46AdIM1gDaMQBiAEBmAEBuAEHyAEN2AEB6AEB-AEMiAIBqAIDuAKrp4WNBsACAdICJDViMjFmN2I1LWRiYzYtNDBjMC1iZDAzLTBiM2VjMWM3NDU0YtgCBuACAQ&sid=b63ed7ee092f6d6ca0bb0284fa6824a3&sb=1&sb_lp=1&src=index&src_elem=sb&error_url=https%3A%2F%2Fwww.booking.com%2Findex.html%3Faid%3D397594%3Blabel%3Dgog235jc-1FCAEoggI46AdIM1gDaMQBiAEBmAEBuAEHyAEN2AEB6AEB-AEMiAIBqAIDuAKrp4WNBsACAdICJDViMjFmN2I1LWRiYzYtNDBjMC1iZDAzLTBiM2VjMWM3NDU0YtgCBuACAQ%3Bsid%3Db63ed7ee092f6d6ca0bb0284fa6824a3%3Bsb_price_type%3Dtotal%26%3B&ss=Riyadh&is_ski_area=0&ssne=Riyadh&ssne_untouched=Riyadh&dest_id=900040280&dest_type=city&checkin_year=2021&checkin_month=12&checkin_monthday=20&checkout_year=2021&checkout_month=12&checkout_monthday=21&group_adults=2&group_children=0&no_rooms=1&b_h4u_keep_filters=&rom_sf=0&offset=375\n",
      "https://www.booking.com/searchresults.html?aid=397594&label=gog235jc-1FCAEoggI46AdIM1gDaMQBiAEBmAEBuAEHyAEN2AEB6AEB-AEMiAIBqAIDuAKrp4WNBsACAdICJDViMjFmN2I1LWRiYzYtNDBjMC1iZDAzLTBiM2VjMWM3NDU0YtgCBuACAQ&sid=b63ed7ee092f6d6ca0bb0284fa6824a3&sb=1&sb_lp=1&src=index&src_elem=sb&error_url=https%3A%2F%2Fwww.booking.com%2Findex.html%3Faid%3D397594%3Blabel%3Dgog235jc-1FCAEoggI46AdIM1gDaMQBiAEBmAEBuAEHyAEN2AEB6AEB-AEMiAIBqAIDuAKrp4WNBsACAdICJDViMjFmN2I1LWRiYzYtNDBjMC1iZDAzLTBiM2VjMWM3NDU0YtgCBuACAQ%3Bsid%3Db63ed7ee092f6d6ca0bb0284fa6824a3%3Bsb_price_type%3Dtotal%26%3B&ss=Riyadh&is_ski_area=0&ssne=Riyadh&ssne_untouched=Riyadh&dest_id=900040280&dest_type=city&checkin_year=2021&checkin_month=12&checkin_monthday=20&checkout_year=2021&checkout_month=12&checkout_monthday=21&group_adults=2&group_children=0&no_rooms=1&b_h4u_keep_filters=&rom_sf=0&offset=400\n",
      "https://www.booking.com/searchresults.html?aid=397594&label=gog235jc-1FCAEoggI46AdIM1gDaMQBiAEBmAEBuAEHyAEN2AEB6AEB-AEMiAIBqAIDuAKrp4WNBsACAdICJDViMjFmN2I1LWRiYzYtNDBjMC1iZDAzLTBiM2VjMWM3NDU0YtgCBuACAQ&sid=b63ed7ee092f6d6ca0bb0284fa6824a3&sb=1&sb_lp=1&src=index&src_elem=sb&error_url=https%3A%2F%2Fwww.booking.com%2Findex.html%3Faid%3D397594%3Blabel%3Dgog235jc-1FCAEoggI46AdIM1gDaMQBiAEBmAEBuAEHyAEN2AEB6AEB-AEMiAIBqAIDuAKrp4WNBsACAdICJDViMjFmN2I1LWRiYzYtNDBjMC1iZDAzLTBiM2VjMWM3NDU0YtgCBuACAQ%3Bsid%3Db63ed7ee092f6d6ca0bb0284fa6824a3%3Bsb_price_type%3Dtotal%26%3B&ss=Riyadh&is_ski_area=0&ssne=Riyadh&ssne_untouched=Riyadh&dest_id=900040280&dest_type=city&checkin_year=2021&checkin_month=12&checkin_monthday=20&checkout_year=2021&checkout_month=12&checkout_monthday=21&group_adults=2&group_children=0&no_rooms=1&b_h4u_keep_filters=&rom_sf=0&offset=425\n"
     ]
    }
   ],
   "source": [
    "for lk in df['Links']:\n",
    "    \n",
    "    \n",
    "    print(lk)"
   ]
  },
  {
   "cell_type": "code",
   "execution_count": 17,
   "id": "f12d0e25",
   "metadata": {
    "scrolled": false
   },
   "outputs": [
    {
     "name": "stdout",
     "output_type": "stream",
     "text": [
      "page switched\n",
      "page switched\n",
      "page switched\n",
      "page switched\n",
      "page switched\n",
      "page switched\n",
      "page switched\n",
      "page switched\n",
      "page switched\n",
      "page switched\n",
      "page switched\n",
      "page switched\n",
      "page switched\n",
      "page switched\n",
      "page switched\n",
      "page switched\n",
      "page switched\n",
      "page switched\n"
     ]
    }
   ],
   "source": [
    "    \n",
    "    recordss=[]\n",
    "    page_num = 0\n",
    "while page_num <= 450 :\n",
    "     sport_url = requests.get(f\"https://www.booking.com/searchresults.html?aid=397594&label=gog235jc-1FCAEoggI46AdIM1gDaMQBiAEBmAEBuAEHyAEN2AEB6AEB-AEMiAIBqAIDuAKrp4WNBsACAdICJDViMjFmN2I1LWRiYzYtNDBjMC1iZDAzLTBiM2VjMWM3NDU0YtgCBuACAQ&sid=b63ed7ee092f6d6ca0bb0284fa6824a3&sb=1&sb_lp=1&src=index&src_elem=sb&error_url=https%3A%2F%2Fwww.booking.com%2Findex.html%3Faid%3D397594%3Blabel%3Dgog235jc-1FCAEoggI46AdIM1gDaMQBiAEBmAEBuAEHyAEN2AEB6AEB-AEMiAIBqAIDuAKrp4WNBsACAdICJDViMjFmN2I1LWRiYzYtNDBjMC1iZDAzLTBiM2VjMWM3NDU0YtgCBuACAQ%3Bsid%3Db63ed7ee092f6d6ca0bb0284fa6824a3%3Bsb_price_type%3Dtotal%26%3B&ss=Riyadh&is_ski_area=0&ssne=Riyadh&ssne_untouched=Riyadh&dest_id=900040280&dest_type=city&checkin_year=2021&checkin_month=12&checkin_monthday=20&checkout_year=2021&checkout_month=12&checkout_monthday=21&group_adults=2&group_children=0&no_rooms=1&b_h4u_keep_filters=&rom_sf=0&offset={page_num}\")\n",
    "    recordss.append(sport_url)\n",
    "    print(sport_url)\n",
    "    driver.get(sport_url)\n",
    "    time.sleep(1)\n",
    "    soup = BeautifulSoup(driver.page_source, \"html5lib\")\n",
    "     for i in driver.find_elements_by_class_name('_c445487e2'):\n",
    "        hotel.append(i.text)\n",
    "    \n",
    "    for i in driver.find_elements_by_class_name('_e885fdc12'):\n",
    "    price.append(i.text)\n",
    "    \n",
    "    for i in driver.find_elements_by_class_name('bd528f9ea6'):\n",
    "    rating.append(i.text)\n",
    "    \n",
    "    for i in driver.find_elements_by_class_name('_1e6021d2f'):\n",
    "    reviews.append(i.text)\n",
    "    \n",
    "    for i in driver.find_elements_by_css_selector('[data-testid~=\\\"distance\\\"]'):\n",
    "        loc.append(i.text)\n",
    "    \n",
    "   \n",
    "    \n",
    "    \n",
    "    page_num+=25\n",
    "    print(\"page switched\")\n",
    "\n",
    "\n"
   ]
  },
  {
   "cell_type": "code",
   "execution_count": 19,
   "id": "e65ea5d9",
   "metadata": {},
   "outputs": [],
   "source": [
    "file_data = [hotel,price,rating,reviews,loc]\n",
    "exported = zip_longest(*file_data)\n",
    "with open(\"/Users/shahadfahad/Desktop/p/datacoby1.csv\", \"w\") as data_file:\n",
    "    wr = csv.writer(data_file)\n",
    "    wr.writerow([\"hotel\", \"Price\",\"rating\",\"reviews\",\"loc\"])\n",
    "    wr.writerows(exported)"
   ]
  },
  {
   "cell_type": "code",
   "execution_count": 21,
   "id": "d7593f90",
   "metadata": {},
   "outputs": [
    {
     "data": {
      "text/html": [
       "<div>\n",
       "<style scoped>\n",
       "    .dataframe tbody tr th:only-of-type {\n",
       "        vertical-align: middle;\n",
       "    }\n",
       "\n",
       "    .dataframe tbody tr th {\n",
       "        vertical-align: top;\n",
       "    }\n",
       "\n",
       "    .dataframe thead th {\n",
       "        text-align: right;\n",
       "    }\n",
       "</style>\n",
       "<table border=\"1\" class=\"dataframe\">\n",
       "  <thead>\n",
       "    <tr style=\"text-align: right;\">\n",
       "      <th></th>\n",
       "      <th>hotel</th>\n",
       "      <th>Price</th>\n",
       "      <th>rating</th>\n",
       "      <th>reviews</th>\n",
       "      <th>loc</th>\n",
       "    </tr>\n",
       "  </thead>\n",
       "  <tbody>\n",
       "    <tr>\n",
       "      <th>0</th>\n",
       "      <td>Al Waha Palace Hotel</td>\n",
       "      <td>SAR307</td>\n",
       "      <td>7.8</td>\n",
       "      <td>2,098 reviews</td>\n",
       "      <td>1.8 km from center</td>\n",
       "    </tr>\n",
       "    <tr>\n",
       "      <th>1</th>\n",
       "      <td>Voyage Hotel</td>\n",
       "      <td>SAR466</td>\n",
       "      <td>8.6</td>\n",
       "      <td>4,111 reviews</td>\n",
       "      <td>3.8 km from center</td>\n",
       "    </tr>\n",
       "    <tr>\n",
       "      <th>2</th>\n",
       "      <td>Carawan Al Fahad Hotel</td>\n",
       "      <td>SAR350</td>\n",
       "      <td>8.1</td>\n",
       "      <td>2,299 reviews</td>\n",
       "      <td>2 km from center</td>\n",
       "    </tr>\n",
       "    <tr>\n",
       "      <th>3</th>\n",
       "      <td>Gloria Inn Riyadh</td>\n",
       "      <td>SAR326</td>\n",
       "      <td>7.9</td>\n",
       "      <td>4,054 reviews</td>\n",
       "      <td>8.1 km from center</td>\n",
       "    </tr>\n",
       "    <tr>\n",
       "      <th>4</th>\n",
       "      <td>Rest Night Hotel Suites- - AL Nafal</td>\n",
       "      <td>SAR250</td>\n",
       "      <td>7.4</td>\n",
       "      <td>2,158 reviews</td>\n",
       "      <td>9.8 km from center</td>\n",
       "    </tr>\n",
       "    <tr>\n",
       "      <th>...</th>\n",
       "      <td>...</td>\n",
       "      <td>...</td>\n",
       "      <td>...</td>\n",
       "      <td>...</td>\n",
       "      <td>...</td>\n",
       "    </tr>\n",
       "    <tr>\n",
       "      <th>454</th>\n",
       "      <td>شقة الماجدية</td>\n",
       "      <td>SAR2,500</td>\n",
       "      <td>NaN</td>\n",
       "      <td>NaN</td>\n",
       "      <td>16 km from center</td>\n",
       "    </tr>\n",
       "    <tr>\n",
       "      <th>455</th>\n",
       "      <td>Rest Night Hotel Suites- - AL Nafal</td>\n",
       "      <td>SAR250</td>\n",
       "      <td>NaN</td>\n",
       "      <td>NaN</td>\n",
       "      <td>9.8 km from center</td>\n",
       "    </tr>\n",
       "    <tr>\n",
       "      <th>456</th>\n",
       "      <td>منتجع نزل الدرعية</td>\n",
       "      <td>SAR7,000</td>\n",
       "      <td>NaN</td>\n",
       "      <td>NaN</td>\n",
       "      <td>16.2 km from center</td>\n",
       "    </tr>\n",
       "    <tr>\n",
       "      <th>457</th>\n",
       "      <td>شقة فاخره في برج رافال</td>\n",
       "      <td>SAR3,000</td>\n",
       "      <td>NaN</td>\n",
       "      <td>NaN</td>\n",
       "      <td>11.9 km from center</td>\n",
       "    </tr>\n",
       "    <tr>\n",
       "      <th>458</th>\n",
       "      <td>ال متعب سويتس الياسمين</td>\n",
       "      <td>SAR700</td>\n",
       "      <td>NaN</td>\n",
       "      <td>NaN</td>\n",
       "      <td>15.1 km from center</td>\n",
       "    </tr>\n",
       "  </tbody>\n",
       "</table>\n",
       "<p>459 rows × 5 columns</p>\n",
       "</div>"
      ],
      "text/plain": [
       "                                   hotel      Price  rating        reviews  \\\n",
       "0                   Al Waha Palace Hotel    SAR307      7.8  2,098 reviews   \n",
       "1                           Voyage Hotel    SAR466      8.6  4,111 reviews   \n",
       "2                 Carawan Al Fahad Hotel    SAR350      8.1  2,299 reviews   \n",
       "3                      Gloria Inn Riyadh    SAR326      7.9  4,054 reviews   \n",
       "4    Rest Night Hotel Suites- - AL Nafal    SAR250      7.4  2,158 reviews   \n",
       "..                                   ...        ...     ...            ...   \n",
       "454                         شقة الماجدية  SAR2,500      NaN            NaN   \n",
       "455  Rest Night Hotel Suites- - AL Nafal    SAR250      NaN            NaN   \n",
       "456                    منتجع نزل الدرعية  SAR7,000      NaN            NaN   \n",
       "457               شقة فاخره في برج رافال  SAR3,000      NaN            NaN   \n",
       "458               ال متعب سويتس الياسمين    SAR700      NaN            NaN   \n",
       "\n",
       "                     loc  \n",
       "0     1.8 km from center  \n",
       "1     3.8 km from center  \n",
       "2       2 km from center  \n",
       "3     8.1 km from center  \n",
       "4     9.8 km from center  \n",
       "..                   ...  \n",
       "454    16 km from center  \n",
       "455   9.8 km from center  \n",
       "456  16.2 km from center  \n",
       "457  11.9 km from center  \n",
       "458  15.1 km from center  \n",
       "\n",
       "[459 rows x 5 columns]"
      ]
     },
     "execution_count": 21,
     "metadata": {},
     "output_type": "execute_result"
    }
   ],
   "source": [
    "# making dataframe \n",
    "df = pd.read_csv(\"/Users/shahadfahad/Desktop/p/datacoby1.csv\") \n",
    "   \n",
    "# output the dataframe\n",
    "df"
   ]
  },
  {
   "cell_type": "code",
   "execution_count": null,
   "id": "d06d0e6f",
   "metadata": {},
   "outputs": [],
   "source": [
    "df.Price = df.Price.str.replace('SAR', '') \n",
    "df.head()"
   ]
  },
  {
   "cell_type": "code",
   "execution_count": null,
   "id": "039ef8dd",
   "metadata": {},
   "outputs": [],
   "source": [
    "df.reviews = df.reviews.str.replace('reviews', '') \n",
    "df"
   ]
  },
  {
   "cell_type": "code",
   "execution_count": null,
   "id": "5f8bc235",
   "metadata": {},
   "outputs": [],
   "source": [
    "df.info()"
   ]
  }
 ],
 "metadata": {
  "kernelspec": {
   "display_name": "Python 3",
   "language": "python",
   "name": "python3"
  },
  "language_info": {
   "codemirror_mode": {
    "name": "ipython",
    "version": 3
   },
   "file_extension": ".py",
   "mimetype": "text/x-python",
   "name": "python",
   "nbconvert_exporter": "python",
   "pygments_lexer": "ipython3",
   "version": "3.8.8"
  }
 },
 "nbformat": 4,
 "nbformat_minor": 5
}
